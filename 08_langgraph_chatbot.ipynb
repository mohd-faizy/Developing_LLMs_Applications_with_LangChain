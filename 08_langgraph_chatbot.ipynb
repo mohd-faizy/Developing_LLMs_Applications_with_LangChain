{
 "cells": [
  {
   "cell_type": "markdown",
   "id": "bd0667f7",
   "metadata": {},
   "source": [
    "# ⭐**Dynamic Chat Agents**"
   ]
  },
  {
   "cell_type": "markdown",
   "id": "fd288318",
   "metadata": {},
   "source": [
    "\n",
    "## Table of Contents\n",
    "\n",
    "- [***1. Introduction to Graph-Based Chatbots***](#1-introduction-to-graph-based-chatbots)\n",
    "- [***2. Building an Agent with LangGraph***](#2-building-an-agent-with-langgraph)\n",
    "- [***3. Streaming Responses***](#3-streaming-responses)\n",
    "- [***4. Adding External Tools***](#4-adding-external-tools)\n",
    "- [***5. Adding Memory***](#5-adding-memory)\n"
   ]
  },
  {
   "cell_type": "code",
   "execution_count": 1,
   "id": "766dd429",
   "metadata": {},
   "outputs": [
    {
     "data": {
      "text/plain": [
       "True"
      ]
     },
     "execution_count": 1,
     "metadata": {},
     "output_type": "execute_result"
    }
   ],
   "source": [
    "# Setup cell: Importing all necessary modules\n",
    "\n",
    "# Typing tools for annotations and custom data structures\n",
    "from typing import Annotated\n",
    "from typing_extensions import TypedDict\n",
    "\n",
    "# Core LangGraph components for building agentic workflows\n",
    "from langgraph.graph import StateGraph, START, END\n",
    "from langgraph.graph.message import add_messages\n",
    "\n",
    "# Language model provider (Groq via LangChain)\n",
    "from langchain_groq import ChatGroq  \n",
    "\n",
    "# Wikipedia integration: API wrapper and LangChain tool\n",
    "from langchain_community.utilities import WikipediaAPIWrapper\n",
    "from langchain_community.tools import WikipediaQueryRun\n",
    "\n",
    "# Prebuilt tool-handling utilities and conditional logic for tool execution\n",
    "from langgraph.prebuilt import ToolNode, tools_condition\n",
    "\n",
    "# IPython utility to display images in Jupyter notebooks\n",
    "from IPython.display import Image, display\n",
    "\n",
    "# In-memory checkpointing for LangGraph agent state (useful for debugging)\n",
    "from langgraph.checkpoint.memory import MemorySaver\n",
    "\n",
    "# Load environment variables from a `.env` file (e.g., for API keys)\n",
    "from dotenv import load_dotenv\n",
    "load_dotenv()"
   ]
  },
  {
   "cell_type": "markdown",
   "id": "ed47eaae",
   "metadata": {},
   "source": [
    "\n",
    "## 1. Introduction to Graph-Based Chatbots\n",
    "\n",
    "LangGraph enables the construction of agentic chatbots by defining workflows as stateful graphs.\n",
    "\n",
    "### Key Concepts\n",
    "\n",
    "- **Graph State**: Controls tool usage and the order of execution.\n",
    "- **Agent State**: Tracks the task completion and maintains conversation history.\n",
    "- **Nodes**: `Functions` or `tool` calls.\n",
    "- **Edges**: Rules that direct the graph from one node to another.\n",
    "- Pre-built nodes include `START` and ``END`.\n",
    "\n",
    "- 📌 *Think of a graph as a map of decisions or steps a chatbot takes when responding to user input.*"
   ]
  },
  {
   "cell_type": "markdown",
   "id": "9be0bb8e",
   "metadata": {},
   "source": [
    "\n",
    "## 2. Building an Agent with LangGraph\n",
    "\n",
    "We define a language model, a state type, and initialize the LangGraph system.\n",
    "\n",
    "### Define the LLM and State\n"
   ]
  },
  {
   "cell_type": "code",
   "execution_count": 2,
   "id": "e003302a",
   "metadata": {},
   "outputs": [
    {
     "data": {
      "image/png": "[encoded data removed]",
      "text/plain": [
       "<IPython.core.display.Image object>"
      ]
     },
     "metadata": {},
     "output_type": "display_data"
    }
   ],
   "source": [
    "# Initialize the language model\n",
    "llm = ChatGroq(model=\"llama-3.1-8b-instant\")\n",
    "\n",
    "# State is a custom TypedDict used to define the shape of data passed between nodes in the graph\n",
    "# - It contains a single key: messages, which holds a list of messages exchanged (human/AI)\n",
    "# - The Annotated[..., add_messages] tells LangGraph how to automatically merge or accumulate messages during execution\n",
    "class State(TypedDict):\n",
    "    messages: Annotated[list, add_messages] # Messages with metadata\n",
    "\n",
    "# Create graph builder with State structure\n",
    "graph_builder = StateGraph(State)\n",
    "\n",
    "# Core function: generate chatbot response based on current state\n",
    "def chatbot(state: State):\n",
    "    return {\"messages\": [llm.invoke(state[\"messages\"])]}\n",
    "\n",
    "# Add chatbot node to the graph\n",
    "graph_builder.add_node(\"chatbot\", chatbot)\n",
    "\n",
    "# Define graph flow: START -> chatbot -> END\n",
    "graph_builder.add_edge(START, \"chatbot\")\n",
    "graph_builder.add_edge(\"chatbot\", END)\n",
    "\n",
    "# Compile and visualize the graph\n",
    "graph = graph_builder.compile()\n",
    "display(Image(graph.get_graph().draw_mermaid_png()))"
   ]
  },
  {
   "cell_type": "markdown",
   "id": "e34ec8e3",
   "metadata": {},
   "source": [
    "\n",
    "## 3. Streaming LLM responses\n",
    "\n",
    "- LangGraph supports streaming responses which allow for real-time feedback.\n",
    "\n",
    "- **Streaming LLM responses** refers to the process of **receiving and displaying the output from a language model (LLM) as it is being generated**, rather than waiting for the full response to be completed before showing anything.\n",
    "\n",
    "\n",
    "\n",
    "### 🔄 Traditional (Non-Streaming) vs. Streaming\n",
    "\n",
    "| Mode          | Behavior                                                              | Example                             |\n",
    "| ------------- | --------------------------------------------------------------------- | ----------------------------------- |\n",
    "| Non-Streaming | Waits for the LLM to finish generating the full output                | Text appears all at once            |\n",
    "| Streaming     | Shows output **token-by-token** (or chunk-by-chunk) as it's generated | Text appears gradually, like typing |\n",
    "\n",
    "\n",
    "### 📦 Why Use Streaming?\n",
    "\n",
    "1. **Faster Feedback:** The user sees partial output immediately, improving perceived speed.\n",
    "2. **Interactive UX:** Feels more natural and conversational, like someone typing live.\n",
    "3. **Useful for Long Responses:** Especially helpful when generating paragraphs or code.\n",
    "4. **Real-time Control:** Allows interruption, cancellation, or even redirection mid-generation.\n"
   ]
  },
  {
   "cell_type": "code",
   "execution_count": 3,
   "id": "61fa4471",
   "metadata": {},
   "outputs": [
    {
     "name": "stdout",
     "output_type": "stream",
     "text": [
      "Agent: [AIMessage(content='Mary Shelley (1797-1851) was a British novelist, best known for writing the famous Gothic novel \"Frankenstein; or, The Modern Prometheus.\" Born August 30, 1797, in London, England, Mary Shelley was the daughter of philosopher and writer William Godwin and his wife, the pioneering feminist Mary Wollstonecraft.\\n\\nMary Shelley\\'s life was marked by both personal struggles and literary achievements. She married the poet Percy Bysshe Shelley in 1814, but their relationship was tumultuous. After her husband\\'s death in a sailing accident in 1822, Mary Shelley was left to raise their son alone.\\n\\nDuring her time in Switzerland with Percy Bysshe Shelley, Mary Shelley was inspired by the surrounding landscape and the conversations of their friends, including Lord Byron and John William Polidori. It was during this time that she began writing \"Frankenstein,\" which was first published anonymously in 1818.\\n\\n\"Frankenstein\" tells the story of Victor Frankenstein, a scientist who creates a monster from dead body parts and brings it to life through an unnatural process. The novel explores themes of science, nature, and the consequences of playing God. It has become a classic of Gothic literature and a timeless tale of the dangers of unchecked ambition and the importance of responsibility.\\n\\nThroughout her life, Mary Shelley continued to write, producing several other novels and short stories. However, it is \"Frankenstein\" that remains her most famous and enduring work, and she is widely regarded as one of the first female science fiction writers.\\n\\nMary Shelley\\'s legacy extends beyond her writing, as well. She was a pioneering figure in the fight for women\\'s rights and education, and her experiences as a single mother and writer helped shape her views on feminism and social justice.\\n\\nIn recent years, there has been a growing interest in Mary Shelley\\'s life and work, with several adaptations and reinterpretations of \"Frankenstein\" appearing in film, literature, and theater. Her novel remains a powerful and thought-provoking work that continues to captivate audiences around the world.', additional_kwargs={}, response_metadata={'token_usage': {'completion_tokens': 418, 'prompt_tokens': 40, 'total_tokens': 458, 'completion_time': 0.716979144, 'prompt_time': 0.051226024, 'queue_time': 0.049106385999999995, 'total_time': 0.768205168}, 'model_name': 'llama-3.1-8b-instant', 'system_fingerprint': 'fp_c523237e5d', 'service_tier': 'on_demand', 'finish_reason': 'stop', 'logprobs': None}, id='run--d55e393e-86bb-4b34-acdd-2e22b1f7c659-0', usage_metadata={'input_tokens': 40, 'output_tokens': 418, 'total_tokens': 458})]\n"
     ]
    }
   ],
   "source": [
    "# ──────────────────────────────────────────────────────────────────────────────\n",
    "# Define a function to stream responses from the graph (chatbot) in real time\n",
    "# ──────────────────────────────────────────────────────────────────────────────\n",
    "\n",
    "# Function to execute the chatbot and stream updates as they're generated\n",
    "def stream_graph_updates(user_input: str): \n",
    "    # Start streaming events from the graph using the user's input\n",
    "    for event in graph.stream({\"messages\": [(\"user\", user_input)]}): \n",
    "        # Each event contains updates from graph nodes\n",
    "        for value in event.values():\n",
    "            # Print the latest response from the agent (message content)\n",
    "            print(\"Agent:\", value[\"messages\"]) \n",
    "\n",
    "\n",
    "# Example usage: \n",
    "user_query = \"Who is Mary Shelley?\" \n",
    "stream_graph_updates(user_query)\n"
   ]
  },
  {
   "cell_type": "markdown",
   "id": "28406b48",
   "metadata": {},
   "source": [
    "### ✅ What this does:\n",
    "- Accepts a user_input string.\n",
    "- Streams the LLM’s response in real-time, using graph.stream(...).\n",
    "- As each graph node emits a value (e.g., the chatbot), it prints the generated message(s) from the agent."
   ]
  },
  {
   "cell_type": "markdown",
   "id": "a70541e8",
   "metadata": {},
   "source": [
    "\n",
    "## 4. Adding external Tools to a chatbot\n",
    "\n",
    "- LangGraph supports integration with tools such as Wikipedia, enabling the agent to look up factual information in real time. \n",
    "- Tools allow the chatbot to extend its capabilities beyond just language modeling, by connecting it to external services or APIs"
   ]
  },
  {
   "cell_type": "code",
   "execution_count": 4,
   "id": "99399926",
   "metadata": {},
   "outputs": [
    {
     "data": {
      "image/png": "[encoded data removed]",
      "text/plain": [
       "<IPython.core.display.Image object>"
      ]
     },
     "metadata": {},
     "output_type": "display_data"
    }
   ],
   "source": [
    "\n",
    "# ----------------------------------------------------\n",
    "# 🌟 Set up Wikipedia Tool and Integrate with Chatbot\n",
    "# ----------------------------------------------------\n",
    "\n",
    "# Initialize the Wikipedia API wrapper (limit results to top 1 for relevance)\n",
    "api_wrapper = WikipediaAPIWrapper(top_k_results=1)\n",
    "\n",
    "# Wrap the Wikipedia API as a LangChain-compatible tool\n",
    "wikipedia_tool = WikipediaQueryRun(api_wrapper=api_wrapper)\n",
    "\n",
    "# Add the Wikipedia tool to the tools list (can include multiple tools)\n",
    "tools = [wikipedia_tool]\n",
    "\n",
    "# Bind the tools to the LLM\n",
    "# This lets the LLM know which tools it can call during a conversation\n",
    "llm_with_tools = llm.bind_tools(tools)\n",
    "\n",
    "# Update the chatbot function to use the LLM with tool binding\n",
    "# This enables dynamic tool invocation based on user input (e.g., triggering a Wikipedia lookup)\n",
    "def chatbot(state: State):\n",
    "    return {\"messages\": [llm_with_tools.invoke(state[\"messages\"])]}\n",
    "\n",
    "\n",
    "# -------------------------------------------------------------------\n",
    "# 🟢 Define the Chatbot and Tool Nodes with Conditional Tool Routing\n",
    "# -------------------------------------------------------------------\n",
    "\n",
    "# Create a new graph builder with the defined State structure\n",
    "graph_builder = StateGraph(State)\n",
    "\n",
    "# # Add chatbot node to the graph \n",
    "graph_builder.add_node(\"chatbot\", chatbot)\n",
    "\n",
    "# Create a ToolNode to handle tool calls and add it to the graph \n",
    "tool_node = ToolNode(tools=[wikipedia_tool])\n",
    "graph_builder.add_node(\"tools\", tool_node)\n",
    "\n",
    "# -------------------------------------------------------------------\n",
    "# 🟢 Define the graph edges and routing logic\n",
    "# -------------------------------------------------------------------\n",
    "\n",
    "# Set up a condition to direct from chatbot to tool or end node\n",
    "graph_builder.add_conditional_edges(\"chatbot\", tools_condition)\n",
    "\n",
    "# Connect tools back to chatbot and   \n",
    "# add START and END nodes \n",
    "graph_builder.add_edge(\"tools\", \"chatbot\")\n",
    "graph_builder.add_edge(START, \"chatbot\")\n",
    "graph_builder.add_edge(\"chatbot\", END)\n",
    "\n",
    "\n",
    "# Compile Visualize the compiled graph\n",
    "graph = graph_builder.compile()\n",
    "display(Image(graph.get_graph().draw_mermaid_png()))"
   ]
  },
  {
   "cell_type": "markdown",
   "id": "91f35a43",
   "metadata": {},
   "source": [
    "## 5. Adding memory and conversation\n",
    "\n",
    "LangGraph can persist conversations using memory modules.\n",
    "\n",
    "### Configure Memory"
   ]
  },
  {
   "cell_type": "code",
   "execution_count": 9,
   "id": "b08e140f",
   "metadata": {},
   "outputs": [
    {
     "name": "stdout",
     "output_type": "stream",
     "text": [
      "Agent: [AIMessage(content='', additional_kwargs={'tool_calls': [{'id': '5j1wskfgp', 'function': {'arguments': '{\"query\":\"Eiffel Tower\"}', 'name': 'wikipedia'}, 'type': 'function'}]}, response_metadata={'token_usage': {'completion_tokens': 17, 'prompt_tokens': 290, 'total_tokens': 307, 'completion_time': 0.029237399, 'prompt_time': 0.017251333, 'queue_time': 0.050781826999999995, 'total_time': 0.046488732}, 'model_name': 'llama-3.1-8b-instant', 'system_fingerprint': 'fp_c523237e5d', 'service_tier': 'on_demand', 'finish_reason': 'tool_calls', 'logprobs': None}, id='run--9c605227-7f55-44bb-a432-d47238cfc7bf-0', tool_calls=[{'name': 'wikipedia', 'args': {'query': 'Eiffel Tower'}, 'id': '5j1wskfgp', 'type': 'tool_call'}], usage_metadata={'input_tokens': 290, 'output_tokens': 17, 'total_tokens': 307})]\n",
      "Agent: [ToolMessage(content='Page: Eiffel Tower\\nSummary: The Eiffel Tower (  EYE-fəl; French: Tour Eiffel [tuʁ ɛfɛl] ) is a wrought-iron lattice tower on the Champ de Mars in Paris, France. It is named after the engineer Gustave Eiffel, whose company designed and built the tower from 1887 to 1889.\\nLocally nicknamed \"La dame de fer\" (French for \"Iron Lady\"), it was constructed as the centrepiece of the 1889 World\\'s Fair, and to crown the centennial anniversary of the French Revolution. Although initially criticised by some of France\\'s leading artists and intellectuals for its design, it has since become a global cultural icon of France and one of the most recognisable structures in the world. The tower received 5,889,000 visitors in 2022. The Eiffel Tower is the most visited monument with an entrance fee in the world: 6.91 million people ascended it in 2015. It was designated a monument historique in 1964, and was named part of a UNESCO World Heritage Site (\"Paris, Banks of the Seine\") in 1991.\\nThe tower is 330 metres (1,083 ft) tall, about the same height as an 81-storey building, and the tallest structure in Paris. Its base is square, measuring 125 metres (410 ft) on each side. During its construction, the Eiffel Tower surpassed the Washington Monument to become by far the tallest human-made structure in the world, a title it held for 41 years until the Chrysler Building in New York City was finished in 1930. It was the first structure in the world to surpass both the 200 meters and 300 meters mark in height. Due to the addition of a broadcasting aerial at the top of the tower in 1957, it is now taller than the Chrysler Building by 5.2 metres (17 ft). Excluding transmitters, the Eiffel Tower is the second tallest free-standing structure in France after the Millau Viaduct.\\nThe tower has three levels for visitors, with restaurants on the first and second levels. The top level\\'s upper platform is 276 m (906 ft) above the ground—the highest public observation deck in the European Union. Tickets can be purchased to ascend by stairs or lift to the first and second levels. The climb from ground level to the first level is over 300 steps, as is the climb from the first level to the second, making the entire ascent a 600-step climb. Although there is a staircase to the top level, it is usually accessible only by lift. On this top, third level, is a private apartment built for Gustave Eiffel, who decorated it with furniture made by Jean Lachaise and invited friends such as Thomas Edison.', name='wikipedia', id='2c2a5467-9c77-492b-b8b5-f4ffe9a99248', tool_call_id='5j1wskfgp')]\n",
      "Agent: [AIMessage(content=\"The Eiffel Tower is a wrought-iron lattice tower located in Paris, France, designed and built by Gustave Eiffel's company from 1887 to 1889. It was initially criticized for its design but has since become a global cultural icon of France and one of the most recognizable structures in the world. The tower is 330 meters (1,083 ft) tall, with a square base of 125 meters (410 ft) on each side. It has three levels for visitors, with restaurants on the first and second levels, and a private apartment on the top level. The Eiffel Tower is the most visited monument with an entrance fee in the world, receiving over 5.8 million visitors in 2022.\", additional_kwargs={}, response_metadata={'token_usage': {'completion_tokens': 153, 'prompt_tokens': 909, 'total_tokens': 1062, 'completion_time': 0.204, 'prompt_time': 0.057940805, 'queue_time': 0.049085165, 'total_time': 0.261940805}, 'model_name': 'llama-3.1-8b-instant', 'system_fingerprint': 'fp_c523237e5d', 'service_tier': 'on_demand', 'finish_reason': 'stop', 'logprobs': None}, id='run--bef64164-a177-49d5-8d7e-ab88c94bf4f0-0', usage_metadata={'input_tokens': 909, 'output_tokens': 153, 'total_tokens': 1062})]\n",
      "Agent: [AIMessage(content='', additional_kwargs={'tool_calls': [{'id': '7x6yj4z35', 'function': {'arguments': '{\"query\":\"Who built the Eiffel Tower?\"}', 'name': 'wikipedia'}, 'type': 'function'}]}, response_metadata={'token_usage': {'completion_tokens': 20, 'prompt_tokens': 1075, 'total_tokens': 1095, 'completion_time': 0.037666013, 'prompt_time': 0.033671332, 'queue_time': 0.050809688000000006, 'total_time': 0.071337345}, 'model_name': 'llama-3.1-8b-instant', 'system_fingerprint': 'fp_c523237e5d', 'service_tier': 'on_demand', 'finish_reason': 'tool_calls', 'logprobs': None}, id='run--d74af580-6b90-4ca3-8c6d-4d6b76142c61-0', tool_calls=[{'name': 'wikipedia', 'args': {'query': 'Who built the Eiffel Tower?'}, 'id': '7x6yj4z35', 'type': 'tool_call'}], usage_metadata={'input_tokens': 1075, 'output_tokens': 20, 'total_tokens': 1095})]\n",
      "Agent: [ToolMessage(content='Page: Eiffel Tower\\nSummary: The Eiffel Tower (  EYE-fəl; French: Tour Eiffel [tuʁ ɛfɛl] ) is a wrought-iron lattice tower on the Champ de Mars in Paris, France. It is named after the engineer Gustave Eiffel, whose company designed and built the tower from 1887 to 1889.\\nLocally nicknamed \"La dame de fer\" (French for \"Iron Lady\"), it was constructed as the centrepiece of the 1889 World\\'s Fair, and to crown the centennial anniversary of the French Revolution. Although initially criticised by some of France\\'s leading artists and intellectuals for its design, it has since become a global cultural icon of France and one of the most recognisable structures in the world. The tower received 5,889,000 visitors in 2022. The Eiffel Tower is the most visited monument with an entrance fee in the world: 6.91 million people ascended it in 2015. It was designated a monument historique in 1964, and was named part of a UNESCO World Heritage Site (\"Paris, Banks of the Seine\") in 1991.\\nThe tower is 330 metres (1,083 ft) tall, about the same height as an 81-storey building, and the tallest structure in Paris. Its base is square, measuring 125 metres (410 ft) on each side. During its construction, the Eiffel Tower surpassed the Washington Monument to become by far the tallest human-made structure in the world, a title it held for 41 years until the Chrysler Building in New York City was finished in 1930. It was the first structure in the world to surpass both the 200 meters and 300 meters mark in height. Due to the addition of a broadcasting aerial at the top of the tower in 1957, it is now taller than the Chrysler Building by 5.2 metres (17 ft). Excluding transmitters, the Eiffel Tower is the second tallest free-standing structure in France after the Millau Viaduct.\\nThe tower has three levels for visitors, with restaurants on the first and second levels. The top level\\'s upper platform is 276 m (906 ft) above the ground—the highest public observation deck in the European Union. Tickets can be purchased to ascend by stairs or lift to the first and second levels. The climb from ground level to the first level is over 300 steps, as is the climb from the first level to the second, making the entire ascent a 600-step climb. Although there is a staircase to the top level, it is usually accessible only by lift. On this top, third level, is a private apartment built for Gustave Eiffel, who decorated it with furniture made by Jean Lachaise and invited friends such as Thomas Edison.', name='wikipedia', id='df45decf-c050-4c65-a4d9-c0c52ef9a8a9', tool_call_id='7x6yj4z35')]\n",
      "Agent: [AIMessage(content=\"The Eiffel Tower was designed and built by Gustave Eiffel's company from 1887 to 1889.\", additional_kwargs={}, response_metadata={'token_usage': {'completion_tokens': 27, 'prompt_tokens': 1697, 'total_tokens': 1724, 'completion_time': 0.036, 'prompt_time': 0.10846981, 'queue_time': 0.05069698, 'total_time': 0.14446981}, 'model_name': 'llama-3.1-8b-instant', 'system_fingerprint': 'fp_c523237e5d', 'service_tier': 'on_demand', 'finish_reason': 'stop', 'logprobs': None}, id='run--aa62c4b5-f99b-4195-a123-33bbb92c2e06-0', usage_metadata={'input_tokens': 1697, 'output_tokens': 27, 'total_tokens': 1724})]\n"
     ]
    }
   ],
   "source": [
    "# --- Modify the graph with memory checkpointing ---\n",
    "memory = MemorySaver()  # Initialize memory saver to store conversation state\n",
    "\n",
    "# Compile the graph with memory as the checkpointing backend\n",
    "graph = graph_builder.compile(checkpointer=memory)\n",
    "\n",
    "# --- Set up a streaming function for a single user session ---\n",
    "def stream_memory_responses(user_input: str):\n",
    "    # Config with a static thread_id to retain memory over the session\n",
    "    config = {\"configurable\": {\"thread_id\": \"single_session_memory\"}}\n",
    "    \n",
    "    # Stream events through the graph with the user input\n",
    "    for event in graph.stream({\"messages\": [(\"user\", user_input)]}, config):\n",
    "        \n",
    "        # Print agent's response from the event values\n",
    "        for value in event.values():\n",
    "            if \"messages\" in value and value[\"messages\"]:\n",
    "                print(\"Agent:\", value[\"messages\"])\n",
    "\n",
    "# --- Simulate an interactive conversation ---\n",
    "stream_memory_responses(\"Tell me about the Eiffel Tower.\")\n",
    "stream_memory_responses(\"Who built it?\")"
   ]
  },
  {
   "cell_type": "markdown",
   "id": "70254d9d",
   "metadata": {},
   "source": [
    "# -----------------------------------------------------------------------\n",
    "# 💡**Chatbots with LangGraph: A Comprehensive Study Guide**\n",
    "\n",
    "# -----------------------------------------------------------------------"
   ]
  },
  {
   "cell_type": "markdown",
   "id": "d527e0c5",
   "metadata": {},
   "source": [
    "### 1. What is the primary purpose of a \"Graph State\" in LangGraph, and how does it contribute to chatbot functionality?\n",
    "\n",
    "**Answer:**\n",
    ">The primary purpose of a \"Graph State\" is to organize different tasks within a chatbot's workflow. It manages elements like tool use, LLM calls, and the overall order of operations, essentially defining the chatbot's internal process.\n",
    "\n",
    "---\n",
    "\n",
    "### 2. How does an \"Agent State\" differ from a \"Graph State,\" and what specific information does it track within a LangGraph chatbot?\n",
    "\n",
    "**Answer:**\n",
    ">An \"Agent State\" specifically tracks the agent's progress throughout the conversation. It logs task completion and internal states, providing a detailed record of what the agent has done and where it is in a multi-step process.\n",
    "\n",
    "---\n",
    "\n",
    "### 3. Define \"nodes\" and \"edges\" within the context of LangGraph. What role do they play in structuring a chatbot's workflow?\n",
    "\n",
    "**Answer:**\n",
    ">\"Nodes\" in LangGraph represent functions or actions that the chatbot can perform, such as generating a response or making a tool call. \"Edges\" are rules that define the connections and flow between these nodes, dictating the sequence of tasks.\n",
    "\n",
    "---\n",
    "\n",
    "### 4. Explain the function of the `add_node` and `add_edge` methods when building a LangGraph.\n",
    "\n",
    "**Answer:**\n",
    ">The `add_node` method is used to define and incorporate a specific function or action (like the chatbot function) into the graph. The `add_edge` method establishes a directional connection between two nodes, determining the path of execution.\n",
    "\n",
    "---\n",
    "\n",
    "### 5. What is the significance of the START and END nodes in LangGraph, and how are they typically used?\n",
    "\n",
    "**Answer:**\n",
    ">START and END nodes are pre-built components in LangGraph that define the beginning and conclusion of a conversation flow. START initiates the graph's execution, while END signifies that the graph has reached a terminal state for that particular turn.\n",
    "\n",
    "---\n",
    "\n",
    "### 6. Describe the process of streaming graph events and its benefit for monitoring a chatbot's operation.\n",
    "\n",
    "**Answer:**\n",
    ">Streaming graph events involves retrieving and printing the chatbot's node responses and workflow steps in real-time. This allows developers to track responses, tool calls, and overall chatbot progress as the conversation unfolds.\n",
    "\n",
    "---\n",
    "\n",
    "### 7. What is an \"LLM hallucination,\" and why is it important to be aware of this phenomenon when designing chatbots?\n",
    "\n",
    "**Answer:**\n",
    ">An \"LLM hallucination\" refers to instances where a Large Language Model generates information that is factually incorrect or nonsensical, despite sounding plausible. It's crucial to be aware of this to design systems that verify information or mitigate such occurrences.\n",
    "\n",
    "---\n",
    "\n",
    "### 8. How are external tools, such as a Wikipedia API, integrated into a LangGraph chatbot, and what is the role of `llm.bind_tools`?\n",
    "\n",
    "**Answer:**\n",
    ">External tools are integrated by first initializing the tool (e.g., `WikipediaAPIWrapper`) and then binding it to the language model using `llm.bind_tools`. This enables the LLM to decide when and how to call these external functions based on the user's query.\n",
    "\n",
    "---\n",
    "\n",
    "### 9. Explain the purpose of a `ToolNode` in LangGraph and how `tools_condition` is used in conjunction with it.\n",
    "\n",
    "**Answer:**\n",
    ">A `ToolNode` in LangGraph is a specific type of node designed to handle tool calls, directing the workflow to execute the appropriate external function. `tools_condition` acts as a conditional edge, determining whether the chatbot should transition to a `ToolNode` or proceed to an END node based on the LLM's decision to use a tool.\n",
    "\n",
    "---\n",
    "\n",
    "### 10. How is memory implemented in a LangGraph chatbot, and what advantage does it provide for ongoing conversations?\n",
    "\n",
    "**Answer:**\n",
    ">Memory is implemented in LangGraph by using modules like `MemorySaver` and compiling the graph with a checkpointer. This allows the chatbot to retain information from previous turns in a conversation, enabling it to respond coherently to follow-up questions without needing explicit re-contextualization.\n",
    "\n",
    "\n",
    "\n",
    "## **II. Glossary of Key Terms**\n",
    "\n",
    "* **Agent State**: A component within LangGraph that tracks the progress and logs the completion of tasks performed by the chatbot agent. It helps maintain context and understand where the agent is in a multi-step workflow.\n",
    "\n",
    "* **Chatbot Construction**: The process of assembling the various components (nodes, edges, states) to create a functional conversational agent using LangGraph.\n",
    "\n",
    "* **Edges**: Rules or connections within a LangGraph that define the flow and transitions between different nodes. They dictate the order in which tasks or actions are executed.\n",
    "\n",
    "* **Graph State**: A central data structure in LangGraph that organizes different tasks, manages tool use, handles LLM calls, and defines the overall order of operations (workflow) for the chatbot.\n",
    "\n",
    "* **LangGraph**: A framework for building robust and stateful multi-actor applications with LLMs, particularly useful for designing complex chatbot workflows.\n",
    "\n",
    "* **LLM Calls**: Instances where the chatbot interacts with a Large Language Model (LLM) to generate responses, understand user input, or make decisions.\n",
    "\n",
    "* **LLM Hallucinations**: A phenomenon where a Large Language Model generates factually incorrect, misleading, or nonsensical information, often presented as if it were true.\n",
    "\n",
    "* **Memory (in LangGraph)**: The capability of a LangGraph chatbot to retain and recall information from previous turns in a conversation, allowing for more coherent and contextual interactions. Implemented using checkpointers like `MemorySaver`.\n",
    "\n",
    "* **Nodes**: Represent individual functions, tasks, or actions within a LangGraph workflow. These can include generating responses, calling external tools, or processing data.\n",
    "\n",
    "* **StateGraph**: A LangGraph module used to define the structure of the graph, allowing for the addition of nodes and edges to build the chatbot's workflow.\n",
    "\n",
    "* **stream()**: A method in LangGraph used to execute the graph and receive events (workflow steps, responses, tool calls) in real-time as they occur.\n",
    "\n",
    "* **START and END nodes**: Pre-built nodes in LangGraph that mark the beginning and conclusion of a graph's execution for a given conversational turn or task.\n",
    "\n",
    "* **ToolNode**: A specific type of node in LangGraph designed to handle the execution of external tools. When the LLM decides to use a tool, the workflow can be directed to a `ToolNode`.\n",
    "\n",
    "* **tools\\_condition**: A conditional edge in LangGraph that directs the flow of the graph based on whether the LLM decides to call a tool or not. It determines if the next step should be a `ToolNode` or another part of the graph (e.g., END).\n",
    "\n",
    "* **Workflow Management**: The process of organizing and controlling the sequence of tasks and interactions within a chatbot, often defined by the nodes and edges of a LangGraph.\n",
    "\n"
   ]
  }
 ],
 "metadata": {
  "kernelspec": {
   "display_name": "Developing_LLMs_Applications_with_LangChain",
   "language": "python",
   "name": "python3"
  },
  "language_info": {
   "codemirror_mode": {
    "name": "ipython",
    "version": 3
   },
   "file_extension": ".py",
   "mimetype": "text/x-python",
   "name": "python",
   "nbconvert_exporter": "python",
   "pygments_lexer": "ipython3",
   "version": "3.13.5"
  }
 },
 "nbformat": 4,
 "nbformat_minor": 5
}
