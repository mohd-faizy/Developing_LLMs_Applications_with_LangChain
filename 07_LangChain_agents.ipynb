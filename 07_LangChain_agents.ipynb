{
 "cells": [
  {
   "cell_type": "markdown",
   "id": "a32e312d",
   "metadata": {},
   "source": [
    "# **⭐The Essentials of LangChain agents**"
   ]
  },
  {
   "cell_type": "markdown",
   "id": "fa028ad9",
   "metadata": {},
   "source": [
    "\n",
    "This notebook introduces the concept of `agents`, `tools`, and how to build intelligent agents using LangChain and Python.\n",
    "\n",
    "## Table of Contents\n",
    "- [***1. Agents and Tools***](#Agents-and-Tools)\n",
    "- [***2.  Basic Concepts***](#Basic-Concepts)\n",
    "- [***3. Improving Response Accuracy***](#Improving-Response-Accuracy)\n",
    "- [***4. Expanding Agents with LangGraph***](#Expanding-Agents-with-LangGraph)\n",
    "- [***5. Creating a ReAct Agent***](#Creating-a-ReAct-Agent)\n",
    "- [***6. Building Custom Tools***](#Building-Custom-Tools)\n",
    "- [***7. Conversation with a ReAct Agent***](#Conversation-with-a-ReAct-Agent)\n",
    "- [***7. Conversation History***](#Conversation-History)\n"
   ]
  },
  {
   "cell_type": "code",
   "execution_count": 25,
   "id": "dad495d3",
   "metadata": {},
   "outputs": [
    {
     "data": {
      "text/plain": [
       "True"
      ]
     },
     "execution_count": 25,
     "metadata": {},
     "output_type": "execute_result"
    }
   ],
   "source": [
    "# Setup imports for LangChain Agentic Systems\n",
    "\n",
    "# Import the @tool decorator to define custom LangChain tools\n",
    "from langchain_core.tools import tool\n",
    "\n",
    "# Import ChatGroq, a wrapper to interact with Groq's language models via LangChain\n",
    "from langchain_groq import ChatGroq  \n",
    "\n",
    "# Import a utility to easily create ReAct-style agents using LangGraph\n",
    "from langgraph.prebuilt import create_react_agent\n",
    "\n",
    "# Import message types used to represent human and AI messages in conversations\n",
    "from langchain_core.messages import HumanMessage, AIMessage\n",
    "\n",
    "# Import Python's math module to provide mathematical operations (can be used in tools)\n",
    "import math\n",
    "\n",
    "# Load environment variables from a .env file (e.g., for API keys or configurations)\n",
    "from dotenv import load_dotenv\n",
    "load_dotenv()  # Execute the loading of environment variables\n"
   ]
  },
  {
   "cell_type": "markdown",
   "id": "a57d5801",
   "metadata": {},
   "source": [
    "## 1. Agents and Tools"
   ]
  },
  {
   "cell_type": "markdown",
   "id": "02561ae4",
   "metadata": {},
   "source": [
    "- **Agents** are autonomous systems that make decisions and take actions.\n",
    "  \n",
    "- **Tools** are callable `functions` that agents use to execute tasks like:\n",
    "  - Querying data\n",
    "  - Performing research\n",
    "  - Analyzing information\n"
   ]
  },
  {
   "cell_type": "markdown",
   "id": "167af337",
   "metadata": {},
   "source": [
    "## 2. Basic Concepts"
   ]
  },
  {
   "cell_type": "markdown",
   "id": "590b887d",
   "metadata": {},
   "source": [
    "**The foundational components of agentic systems include:**\n",
    "\n",
    "- **LLMs (Large Language Models)**: e.g., `ChatGPT`.\n",
    "- **Prompts**: Input used to guide the model’s behavior.\n",
    "- **Tools**: Modular functional elements.\n",
    "- **APIs**: Interfaces that enable LLMs to use tools.\n",
    "- **LangChain**: A Python framework to build agentic applications.\n"
   ]
  },
  {
   "cell_type": "markdown",
   "id": "52c9ce77",
   "metadata": {},
   "source": [
    "## 3. Improving Response Accuracy"
   ]
  },
  {
   "cell_type": "markdown",
   "id": "2f2c9c21",
   "metadata": {},
   "source": [
    "To enhance the precision of agent outputs in tasks involving:\n",
    "\n",
    "- **Mathematics** (e.g., order of operations)\n",
    "- **Coding**: Ensuring logical and syntactic correctness\n",
    "\n",
    "Order of Math Operations:\n",
    "1. Parentheses\n",
    "2. Exponents\n",
    "3. Multiplication/Division\n",
    "4. Addition/Subtraction\n"
   ]
  },
  {
   "cell_type": "markdown",
   "id": "8b6f4f4a",
   "metadata": {},
   "source": [
    "## 4. Expanding Agents with LangGraph"
   ]
  },
  {
   "cell_type": "markdown",
   "id": "e6d79091",
   "metadata": {},
   "source": [
    "- **Nodes**: Perform tasks like querying or returning data.\n",
    "- **Edges**: Logical rules that connect nodes.\n",
    "\n",
    "> Think of LangGraph as a roadmap where each stop (node) performs a job, and roads (edges) decide where to go next.\n"
   ]
  },
  {
   "cell_type": "markdown",
   "id": "0b05e6b2",
   "metadata": {},
   "source": [
    "## Creating a ReAct(`Reasoning & Action`) Agent"
   ]
  },
  {
   "cell_type": "code",
   "execution_count": 26,
   "id": "d8c0976d",
   "metadata": {},
   "outputs": [
    {
     "name": "stdout",
     "output_type": "stream",
     "text": [
      "To calculate this, we need to follow the order of operations (PEMDAS):\n",
      "\n",
      "1. Calculate the sum inside the parentheses: 2 + 8 = 10\n",
      "2. Multiply the result by 9: 10 * 9 = 90\n",
      "\n",
      "So the answer is 90.\n"
     ]
    }
   ],
   "source": [
    "# Create a ChatOpenAI model instance\n",
    "model = ChatGroq(model=\"llama-3.1-8b-instant\")\n",
    "\n",
    "# Placeholder for tools (defined later)\n",
    "tools = []\n",
    "\n",
    "# Create the agent with tools\n",
    "agent = create_react_agent(model, tools)\n",
    "\n",
    "# Define a query and invoke the agent\n",
    "query = \"What is (2+8) multiplied by 9?\"\n",
    "response = agent.invoke({\"messages\": [(\"human\", query)]})\n",
    "\n",
    "# Output the agent's response\n",
    "print(response['messages'][-1].content)"
   ]
  },
  {
   "cell_type": "markdown",
   "id": "b3d6b874",
   "metadata": {},
   "source": [
    "## Building Custom Tools"
   ]
  },
  {
   "cell_type": "markdown",
   "id": "e053de9f",
   "metadata": {},
   "source": [
    "To compute the area of a rectangle using a custom tool:\n",
    "\n",
    "- Use the `@tool` decorator.\n",
    "- Parse and clean the input string.\n",
    "- Perform the calculation and return the result.\n"
   ]
  },
  {
   "cell_type": "code",
   "execution_count": null,
   "id": "50f11b92",
   "metadata": {},
   "outputs": [],
   "source": [
    "# Define this math function as a tool\n",
    "@tool\n",
    "def hypotenuse_length(input: str) -> float:\n",
    "    \"\"\"\n",
    "    Calculates the length of the hypotenuse of a right-angled triangle \n",
    "    given the lengths of the other two sides (comma-separated input).\n",
    "    Example input: \"3, 4\"\n",
    "    \"\"\"\n",
    "    \n",
    "    # Split the input string to get the lengths of the triangle\n",
    "    sides = input.split(',')\n",
    "    \n",
    "    # Convert the input values to floats, removing extra spaces\n",
    "    a = float(sides[0].strip())\n",
    "    b = float(sides[1].strip())\n",
    "    \n",
    "    # Square each of the values, add them together, and find the square root\n",
    "    return math.sqrt(a**2 + b**2)"
   ]
  },
  {
   "cell_type": "markdown",
   "id": "ae9e7292",
   "metadata": {},
   "source": [
    "## Conversation with a ReAct Agent"
   ]
  },
  {
   "cell_type": "code",
   "execution_count": 35,
   "id": "622d9b6d",
   "metadata": {},
   "outputs": [
    {
     "name": "stdout",
     "output_type": "stream",
     "text": [
      "{'user_input': 'What is the value of the hypotenuse for a triangle with sides 4 and 5?', 'agent_output': 'The value of the hypotenuse for a triangle with sides 4 and 5 is approximately 6.4031242374328485.'}\n"
     ]
    }
   ],
   "source": [
    "tools = [hypotenuse_length]\n",
    "\n",
    "# Create the ReAct agent\n",
    "app = create_react_agent(model, tools)\n",
    "\n",
    "# Create a query using natural language \n",
    "query = \"What is the value of the hypotenuse for a triangle with sides 4 and 5?\"\n",
    "\n",
    "# Invoke the agent with a user query. Pass messages as a list of (role, content) tuples.\n",
    "response = app.invoke({\"messages\": [(\"human\", query)]})\n",
    "\n",
    "# Define and print the input and output messages\n",
    "print({\n",
    "    \"user_input\": query,\n",
    "    \"agent_output\": response[\"messages\"][-1].content\n",
    "})"
   ]
  },
  {
   "cell_type": "markdown",
   "id": "e972ffef",
   "metadata": {},
   "source": [
    "## Conversation History"
   ]
  },
  {
   "cell_type": "code",
   "execution_count": 36,
   "id": "5e4c9dd5",
   "metadata": {},
   "outputs": [
    {
     "name": "stdout",
     "output_type": "stream",
     "text": [
      "{'user_input': 'What about one with sides 2 and 3?', 'agent_output': ['HumanMessage: What is the value of the hypotenuse for a triangle with sides 4 and 5?', 'AIMessage: The value of the hypotenuse for a triangle with sides 4 and 5 is approximately 6.4031242374328485.', 'HumanMessage: What about one with sides 2 and 3?', 'AIMessage: The value of the hypotenuse for a triangle with sides 2 and 3 is approximately 3.605551275463989.']}\n"
     ]
    }
   ],
   "source": [
    "message_history = response[\"messages\"]\n",
    "new_query = \"What about one with sides 2 and 3?\"\n",
    "\n",
    "# Invoke the app with the full message history\n",
    "response = app.invoke({\"messages\": message_history + [(\"human\", new_query)]})\n",
    "\n",
    "# Extract the human and AI messages from the result\n",
    "filtered_messages = [msg for msg in response[\"messages\"] if isinstance(msg, (HumanMessage, AIMessage)) and msg.content.strip()]\n",
    "\n",
    "# Pass the new query as input and print the final outputs\n",
    "print({\n",
    "    \"user_input\": new_query,\n",
    "    \"agent_output\": [f\"{msg.__class__.__name__}: {msg.content}\" for msg in filtered_messages]\n",
    "})"
   ]
  }
 ],
 "metadata": {
  "kernelspec": {
   "display_name": "Developing_LLMs_Applications_with_LangChain",
   "language": "python",
   "name": "python3"
  },
  "language_info": {
   "codemirror_mode": {
    "name": "ipython",
    "version": 3
   },
   "file_extension": ".py",
   "mimetype": "text/x-python",
   "name": "python",
   "nbconvert_exporter": "python",
   "pygments_lexer": "ipython3",
   "version": "3.13.5"
  }
 },
 "nbformat": 4,
 "nbformat_minor": 5
}
