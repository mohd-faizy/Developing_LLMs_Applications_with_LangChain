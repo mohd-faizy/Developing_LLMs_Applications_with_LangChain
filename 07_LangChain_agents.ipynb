{
 "cells": [
  {
   "cell_type": "markdown",
   "id": "a32e312d",
   "metadata": {},
   "source": [
    "# **⭐The Essentials of LangChain agents**"
   ]
  },
  {
   "cell_type": "markdown",
   "id": "fa028ad9",
   "metadata": {},
   "source": [
    "\n",
    "This notebook introduces the concept of `agents`, `tools`, and how to build intelligent agents using LangChain and Python.\n",
    "\n",
    "## Table of Contents\n",
    "- [***1. Agents and Tools***](#Agents-and-Tools)\n",
    "- [***2.  Basic Concepts***](#Basic-Concepts)\n",
    "- [***3. Improving Response Accuracy***](#Improving-Response-Accuracy)\n",
    "- [***4. Expanding Agents with LangGraph***](#Expanding-Agents-with-LangGraph)\n",
    "- [***5. Creating a ReAct Agent***](#Creating-a-ReAct-Agent)\n",
    "- [***6. Building Custom Tools***](#Building-Custom-Tools)\n",
    "- [***7. Conversation with a ReAct Agent***](#Conversation-with-a-ReAct-Agent)\n",
    "- [***7. Conversation History***](#Conversation-History)\n"
   ]
  },
  {
   "cell_type": "code",
   "execution_count": null,
   "id": "dad495d3",
   "metadata": {},
   "outputs": [],
   "source": [
    "# Setup imports for LangChain Agentic Systems\n",
    "from langchain_core.tools import tool\n",
    "from langchain_openai import ChatOpenAI\n",
    "from langgraph.prebuilt import create_react_agent\n",
    "from langchain_core.messages import HumanMessage, AIMessage\n",
    "import math\n"
   ]
  },
  {
   "cell_type": "markdown",
   "id": "a57d5801",
   "metadata": {},
   "source": [
    "## Agents and Tools"
   ]
  },
  {
   "cell_type": "markdown",
   "id": "02561ae4",
   "metadata": {},
   "source": [
    "- **Agents** are autonomous systems capable of making decisions and performing actions.\n",
    "- **Tools** are callable functions that agents use to execute tasks like:\n",
    "  - Querying data\n",
    "  - Performing research\n",
    "  - Analyzing information\n"
   ]
  },
  {
   "cell_type": "markdown",
   "id": "167af337",
   "metadata": {},
   "source": [
    "## Basic Concepts"
   ]
  },
  {
   "cell_type": "markdown",
   "id": "590b887d",
   "metadata": {},
   "source": [
    "The foundational components of agentic systems include:\n",
    "\n",
    "- **LLMs (Large Language Models)**: e.g., ChatGPT.\n",
    "- **Prompts**: Input used to guide the model’s behavior.\n",
    "- **Tools**: Modular functional elements.\n",
    "- **APIs**: Interfaces that enable LLMs to use tools.\n",
    "- **LangChain**: A Python framework to build agentic applications.\n"
   ]
  },
  {
   "cell_type": "markdown",
   "id": "52c9ce77",
   "metadata": {},
   "source": [
    "## Improving Response Accuracy"
   ]
  },
  {
   "cell_type": "markdown",
   "id": "2f2c9c21",
   "metadata": {},
   "source": [
    "To enhance the precision of agent outputs in tasks involving:\n",
    "\n",
    "- **Mathematics** (e.g., order of operations)\n",
    "- **Coding**: Ensuring logical and syntactic correctness\n",
    "\n",
    "Order of Math Operations:\n",
    "1. Parentheses\n",
    "2. Exponents\n",
    "3. Multiplication/Division\n",
    "4. Addition/Subtraction\n"
   ]
  },
  {
   "cell_type": "markdown",
   "id": "8b6f4f4a",
   "metadata": {},
   "source": [
    "## Expanding Agents with LangGraph"
   ]
  },
  {
   "cell_type": "markdown",
   "id": "e6d79091",
   "metadata": {},
   "source": [
    "- **Nodes**: Perform tasks like querying or returning data.\n",
    "- **Edges**: Logical rules that connect nodes.\n",
    "\n",
    "> Think of LangGraph as a roadmap where each stop (node) performs a job, and roads (edges) decide where to go next.\n"
   ]
  },
  {
   "cell_type": "markdown",
   "id": "0b05e6b2",
   "metadata": {},
   "source": [
    "## Creating a ReAct Agent"
   ]
  },
  {
   "cell_type": "code",
   "execution_count": null,
   "id": "d8c0976d",
   "metadata": {},
   "outputs": [],
   "source": [
    "# Create a ChatOpenAI model instance\n",
    "model = ChatOpenAI(openai_api_key=\"<OPENAI_API_TOKEN>\", model=\"gpt-4o-mini\")\n",
    "\n",
    "# Placeholder for tools (defined later)\n",
    "tools = []\n",
    "\n",
    "# Create the agent with tools\n",
    "agent = create_react_agent(model, tools)\n",
    "\n",
    "# Define a query and invoke the agent\n",
    "query = \"What is (2+8) multiplied by 9?\"\n",
    "response = agent.invoke({\"messages\": [(\"human\", query)]})\n",
    "\n",
    "# Output the agent's response\n",
    "print(response['messages'][-1].content)\n",
    "# Expected: The result of (2 + 8) multiplied by 9 is 90."
   ]
  },
  {
   "cell_type": "markdown",
   "id": "b3d6b874",
   "metadata": {},
   "source": [
    "## Building Custom Tools"
   ]
  },
  {
   "cell_type": "markdown",
   "id": "e053de9f",
   "metadata": {},
   "source": [
    "To compute the area of a rectangle using a custom tool:\n",
    "\n",
    "- Use the `@tool` decorator.\n",
    "- Parse and clean the input string.\n",
    "- Perform the calculation and return the result.\n"
   ]
  },
  {
   "cell_type": "code",
   "execution_count": null,
   "id": "d792b94d",
   "metadata": {},
   "outputs": [],
   "source": [
    "# Define the rectangle area tool\n",
    "@tool\n",
    "def rectangle_area(input: str) -> float:\n",
    "    \"\"\"Calculates the area of a rectangle given the lengths of sides a and b.\"\"\" \n",
    "    sides = input.split(',')\n",
    "    a = float(sides[0].strip())\n",
    "    b = float(sides[1].strip())\n",
    "    return a * b\n"
   ]
  },
  {
   "cell_type": "code",
   "execution_count": null,
   "id": "6d3591ad",
   "metadata": {},
   "outputs": [],
   "source": [
    "# Define tools and initialize the ReAct agent\n",
    "tools = [rectangle_area]\n",
    "app = create_react_agent(model, tools)\n",
    "\n",
    "# Natural language query\n",
    "query = \"What is the area of a rectangle with sides 5 and 7?\"\n",
    "\n",
    "# Invoke the agent\n",
    "response = app.invoke({\"messages\": [(\"human\", query)]})\n",
    "print(response['messages'][-1].content)\n"
   ]
  },
  {
   "cell_type": "markdown",
   "id": "ae9e7292",
   "metadata": {},
   "source": [
    "## Conversation with a ReAct Agent"
   ]
  },
  {
   "cell_type": "code",
   "execution_count": null,
   "id": "acd50f93",
   "metadata": {},
   "outputs": [],
   "source": [
    "query = \"What is the area of a rectangle with sides 14 and 4?\"\n",
    "response = app.invoke({\"messages\": [(\"human\", query)]})\n",
    "\n",
    "print({\n",
    "    \"user_input\": query,\n",
    "    \"agent_output\": response[\"messages\"][-1].content\n",
    "})\n"
   ]
  },
  {
   "cell_type": "markdown",
   "id": "e972ffef",
   "metadata": {},
   "source": [
    "## Conversation History"
   ]
  },
  {
   "cell_type": "code",
   "execution_count": null,
   "id": "b6531fbf",
   "metadata": {},
   "outputs": [],
   "source": [
    "# Continuing a conversation with new inputs\n",
    "message_history = [{\"role\": \"human\", \"content\": \"What is the area of a rectangle with sides 5 and 7?\"},\n",
    "                   {\"role\": \"ai\", \"content\": \"The area of a rectangle with sides 5 and 7 is 35 square units.\"},\n",
    "                   {\"role\": \"human\", \"content\": \"What about one with sides 12 and 14?\"}]\n",
    "\n",
    "response = app.invoke({\"messages\": message_history})\n",
    "\n",
    "print({\n",
    "    \"user_input\": \"What about one with sides 12 and 14?\",\n",
    "    \"agent_output\": response['messages'][-1].content\n",
    "})\n"
   ]
  }
 ],
 "metadata": {
  "kernelspec": {
   "display_name": "Python 3",
   "language": "python",
   "name": "python3"
  },
  "language_info": {
   "name": "python",
   "version": "3.x"
  }
 },
 "nbformat": 4,
 "nbformat_minor": 5
}
