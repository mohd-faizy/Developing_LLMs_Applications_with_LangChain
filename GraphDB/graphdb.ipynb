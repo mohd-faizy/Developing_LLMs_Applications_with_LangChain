{
 "cells": [
  {
   "cell_type": "markdown",
   "id": "f3bca199",
   "metadata": {},
   "source": [
    "# 💡**Knowledge Graph and GraphDB with LangChain**"
   ]
  },
  {
   "cell_type": "markdown",
   "id": "022b41c1",
   "metadata": {},
   "source": [
    "* Knowledge Graphs\n",
    "* `Neo4j` Graph Database\n",
    "* Cypher Queries\n",
    "* Graph DB apps with LangChain"
   ]
  },
  {
   "cell_type": "markdown",
   "id": "1173559d",
   "metadata": {},
   "source": [
    "### ⭕1. **Knowledge Graphs: Concepts and Examples**"
   ]
  },
  {
   "cell_type": "markdown",
   "id": "2779e959",
   "metadata": {},
   "source": [
    "\n",
    "\n",
    "\n",
    "📘 **Knowledge Graph**\n",
    "\n",
    "\n",
    "![knowgraph](https://raw.githubusercontent.com/mohd-faizy/Developing_LLMs_Applications_with_LangChain/refs/heads/main/GraphDB/_img_db/knowledgeGraph.jpg)\n",
    "\n",
    "* **Definition**:\n",
    "  * A semantic network representing real-world **entities** and **relationships**, enabling machines to understand and reason about the data contextually.\n",
    "\n",
    "* 🔹 **Key Components:**\n",
    "  * **Nodes** – Represent entities (e.g., *Person*, *Place*, *Organization*)\n",
    "  * **Edges** – Represent relationships between entities (e.g., *bornIn*, *worksAt*)\n",
    "  * **Labels** – Define types or categories of nodes (e.g., *Scientist*, *City*)\n",
    "  * **Properties** – Attributes of nodes/edges in key-value format (e.g., *birthDate: 1879-03-14*)\n",
    "\n",
    "* ⭕Example Use-Case: **Academic Knowledge Graph**\n",
    "  * 🧠 Nodes:\n",
    "    * Albert Einstein (Person)\n",
    "    * Germany (Place)\n",
    "    * Theoretical Physicist, Physicist (Occupation)\n",
    "    * Theory of Relativity (Concept)\n",
    "    * Physics (Discipline)\n",
    "\n",
    "  * **Edges**:\n",
    "    * ***Einstein → born In → Germany***\n",
    "    * ***Einstein → occupation → Theoretical Physicist***\n",
    "    * ***Theoretical Physicist → kindOf → Physicist***\n",
    "    * ***Einstein → developed → Theory of Relativity***\n",
    "    * ***Theory of Relativity → branchOf → Physics***\n",
    "    * ***Physicist → practices → Physics***\n",
    "  \n",
    "  * 📌 Labels & Properties (example):\n",
    "    * `birthDate`: \"1879-03-14\"\n",
    "    * `nationality`: \"German\"\n",
    "\n",
    "* 🔹 **NER (Named Entity Recognition)**\n",
    "  * Extracts structured entities (like names, places, dates) from unstructured text\n",
    "  * Helps in automatic **graph construction** from text sources like articles or documents\n",
    "    * ``Person`: Albert Einstein\n",
    "    * `Concept`: Theory of Relativity\n",
    "    * `Place`: Germany\n",
    "    * `Occupation`: Theoretical Physicist \n",
    "\n",
    "* 🔹 **Real-World Applications:**\n",
    "  * **Google Search** – Displays knowledge panels and suggestions for queries like *\"Albert Einstein\"*\n",
    "  * **YouTube** – Enhances content and ad recommendations by understanding entities in videos\n",
    "  * **LinkedIn & Facebook** – Build social and professional graphs for recommendation and discovery"
   ]
  },
  {
   "cell_type": "markdown",
   "id": "4d714c2d",
   "metadata": {},
   "source": [
    "### ⭕2. **Retrieval Augmented Generation (RAG) & Search Techniques**"
   ]
  },
  {
   "cell_type": "markdown",
   "id": "d79064f6",
   "metadata": {},
   "source": [
    "\n",
    "\n",
    "* **Traditional RAG Pipeline**:\n",
    "  * Ingest documents → chunk them → generate embeddings → store in vector DB → perform similarity search\n",
    "  \n",
    "\n",
    "* 🔍 **Types of Search**\n",
    "  \n",
    "  * 🟢1. **Keyword Search**\n",
    "      * Based on: **Bag of Words (BoW), TF-IDF**\n",
    "    \n",
    "      * ***Characteristics:***\n",
    "        * Sparse vector representation\n",
    "        * Matches exact words or phrases\n",
    "        * Less contextual understanding\n",
    "\n",
    "      * `Pros`: Fast and interpretable\n",
    "      * Cons: Fails to capture semantic similarity\n",
    "\n",
    "  * 🟢2. **Semantic Search $\\Rightarrow$ Dense Vector Search**\n",
    "\n",
    "      * Based on: **Dense embeddings (e.g., via transformers)**\n",
    "\n",
    "      * ***Characteristics:***\n",
    "        * Captures **meaning and context**\n",
    "        * Uses vector similarity (e.g., cosine similarity)\n",
    "\n",
    "      * `Pros`: Finds conceptually similar content, even with different words\n",
    "      * Cons: Requires more computation and pre-trained models\n",
    "\n",
    "  * 🟢3. **Hybrid Search**\n",
    "\n",
    "      * Combines: **Keyword + Semantic search + Knowledge Search**\n",
    "\n",
    "      * ***Characteristics:***\n",
    "        * Merges lexical accuracy with semantic depth\n",
    "        * Often uses weighted scoring from both methods\n",
    "    \n",
    "      * `Pros`: More robust and accurate results\n",
    "      * Common in: Modern search engines and RAG (Retrieval-Augmented Generation) systems\n",
    "  \n",
    "      * **Knowledge Graph + RAG**:\n",
    "        * Adds structured semantic understanding to RAG\n",
    "        * Enhances response quality and context awareness\n",
    "\n"
   ]
  },
  {
   "cell_type": "markdown",
   "id": "7f3ee800",
   "metadata": {},
   "source": [
    "### ⭕3. **RDBMS vs. Graph Database**"
   ]
  },
  {
   "cell_type": "markdown",
   "id": "f4046a22",
   "metadata": {},
   "source": [
    "\n",
    "\n",
    "| Feature            | **RDBMS**                                                              | **Graph Database (e.g., Neo4j)**                                              |\n",
    "| ------------------ | ---------------------------------------------------------------------- | ----------------------------------------------------------------------------- |\n",
    "| **Data Model**     | Tables (with rows & columns)                                           | Graph: Nodes (entities), Relationships (edges), and Properties (attributes)   |\n",
    "| **Schema**         | Rigid, predefined schema                                               | Flexible or schema-optional                                                   |\n",
    "| **Relationships**  | Represented using **foreign keys** & **joins**                         | Represented **natively** as direct connections (edges)                        |\n",
    "| **Query Language** | SQL (Structured Query Language)                                        | Cypher Query Language (CQL)                                                   |\n",
    "| **Query Example**  | To find friends of friends: Multiple `JOIN` operations                 | Simple `MATCH` pattern: `(:Person)-[:FRIEND]->(:Person)-[:FRIEND]->(:Person)` |\n",
    "| **Performance**    | Slower for complex joins and deep relations                            | Optimized for traversing complex relationships                                |\n",
    "| **Storage**        | Normalized tables with keys                                            | Graph structure stored directly                                               |\n",
    "| **Use Case Fit**   | Best for **structured**, transactional data (e.g., finance, inventory) | Best for **connected** data (e.g., social networks, recommendation systems)   |\n",
    "\n",
    "\n",
    "#### 🔷 **Neo4j – Key Highlights**\n",
    "\n",
    "1. **Real-time Insights**\n",
    "   *Neo4j provides fast, real-time access to connected data.*\n",
    "\n",
    "2. **Easy Retrieval**\n",
    "   *Data can be easily retrieved using* **Cypher Query** *language.*\n",
    "\n",
    "3. **Cypher Query Language**\n",
    "   *Cypher is a* **declarative language** *used to visually and intuitively represent graph patterns.*\n",
    "\n",
    "4. **No Joins Required**\n",
    "   *Since relationships are stored natively, there are* **no joins**, *which means faster and simpler queries.*\n",
    "\n",
    "\n",
    "\n",
    "#### 🔹 In **RDBMS** (SQL):\n",
    "\n",
    "```sql\n",
    "SELECT c2.name\n",
    "FROM authors a\n",
    "JOIN collaborations c1 ON a.id = c1.author_id\n",
    "JOIN collaborations c2 ON c1.paper_id = c2.paper_id\n",
    "JOIN authors c2 ON c2.id = c2.author_id\n",
    "WHERE a.name = 'Albert Einstein' AND c2.name != 'Albert Einstein';\n",
    "```\n",
    "\n",
    "#### 🔹 In **Graph DB** (`Cypher` - `Neo4j`):\n",
    "\n",
    "```cypher\n",
    "MATCH (e:Author {name: 'Albert Einstein'})-[:WROTE]->(:Paper)<-[:WROTE]-(coauthor)\n",
    "RETURN coauthor.name\n",
    "```\n",
    "\n",
    ">⚡ **Result**: Graph DB returns this much faster and more intuitively with fewer lines.\n",
    "\n",
    "\n",
    "#### 🧠 **When to Use What?**\n",
    "\n",
    "| Use Case                                        | Best Fit         |\n",
    "| ----------------------------------------------- | ---------------- |\n",
    "| Banking, Invoicing, HR Systems                  | ✅ RDBMS          |\n",
    "| Social Media, Fraud Detection, Knowledge Graphs | ✅ Graph Database |\n",
    "| Product Inventory or Billing Systems            | ✅ RDBMS          |\n",
    "| Recommendation Engines, Semantic Search         | ✅ Graph Database |"
   ]
  },
  {
   "cell_type": "markdown",
   "id": "f6b66233",
   "metadata": {},
   "source": [
    "### ⭕4. **Neo4j Property Graph Model**"
   ]
  },
  {
   "cell_type": "markdown",
   "id": "56f4bef6",
   "metadata": {},
   "source": [
    "#### **Syntax**\n",
    "\n",
    "- Nodes: Represent entities (e.g., Person, Movie).\n",
    "  - Syntax: `(n:Label {property:value})`\n",
    "  - Example: `(p:Person {name:\"John\"})`\n",
    "- \n",
    "- Relationships: Connect nodes and have types (e.g., :ACTED_IN).\n",
    "  - Syntax: `(a)-[:RELATION_TYPE]->(b)`\n",
    "\n",
    "---\n",
    "\n",
    "```Cypher\n",
    "// Step 1: Create a person node\n",
    "CREATE (robert:Person {name: \"Robert Downey Jr\", born: 1970})\n",
    "\n",
    "// Step 2: Create a movie node\n",
    "CREATE (ironman:Movie {title: \"Iron Man\"})\n",
    "\n",
    "// Step 3: Create the relationship\n",
    "MATCH (robert:Person {name: \"Robert Downey Jr\"}), \n",
    "      (ironman:Movie {title: \"Iron Man\"})\n",
    "CREATE (robert)-[:ACTED_IN]->(ironman)\n",
    "```\n"
   ]
  },
  {
   "cell_type": "markdown",
   "id": "40a21ca4",
   "metadata": {},
   "source": []
  },
  {
   "cell_type": "markdown",
   "id": "be908134",
   "metadata": {},
   "source": [
    "# **👨‍💻CODE**"
   ]
  },
  {
   "cell_type": "code",
   "execution_count": 1,
   "id": "abb7163f",
   "metadata": {},
   "outputs": [
    {
     "data": {
      "text/plain": [
       "[Document(metadata={}, page_content=\"\\nElon Reeve Musk (born June 28, 1971) is a businessman and investor known for his key roles in space\\ncompany SpaceX and automotive company Tesla, Inc. Other involvements include ownership of X Corp.?,\\nformerly Twitter, and his role in the founding of The Boring Company, xAI, Neuralink and OpenAI.\\nHe is one of the wealthiest people in the world; as of July 2024, Forbes estimates his net worth to be\\nUS$221 billion.Musk was born in Pretoria to Maye and engineer Errol Musk, and briefly attended\\nthe University of Pretoria before immigrating to Canada at age 18, acquiring citizenship through\\nhis Canadian-born mother. Two years later, he matriculated at Queen's University at Kingston in Canada.\\nMusk later transferred to the University of Pennsylvania and received bachelor's degrees in economics\\nand physics. He moved to California in 1995 to attend Stanford University, but dropped out after\\ntwo days and, with his brother Kimbal, co-founded online city guide software company Zip2.\\n\")]"
      ]
     },
     "execution_count": 1,
     "metadata": {},
     "output_type": "execute_result"
    }
   ],
   "source": [
    "# ============================ #\n",
    "#        IMPORTS & SETUP       #\n",
    "# ============================ #\n",
    "\n",
    "from langchain_neo4j import Neo4jGraph, GraphCypherQAChain\n",
    "from langchain_groq import ChatGroq\n",
    "from langchain_core.documents import Document\n",
    "from langchain_experimental.graph_transformers import LLMGraphTransformer\n",
    "from dotenv import load_dotenv\n",
    "import os\n",
    "\n",
    "# Load environment variables (NEO4J_URI, NEO4J_USERNAME, NEO4J_PASSWORD, etc.)\n",
    "load_dotenv()\n",
    "\n",
    "\n",
    "# ============================ #\n",
    "#     INITIALIZE LLM (Groq)    #\n",
    "# ============================ #\n",
    "\n",
    "llm = ChatGroq(model=\"llama-3.3-70b-versatile\")\n",
    "\n",
    "# ============================ #\n",
    "#     NEO4J CONNECTION SETUP   #\n",
    "# ============================ #\n",
    "graph = Neo4jGraph(\n",
    "    url=os.getenv(\"NEO4J_URI\"),\n",
    "    username=os.getenv(\"NEO4J_USERNAME\"),\n",
    "    password=os.getenv(\"NEO4J_PASSWORD\")\n",
    "    )\n",
    "\n",
    "\n",
    "# ============================ #\n",
    "#        TEXT PREPARATION      #\n",
    "# ============================ #\n",
    "\n",
    "# Sample biography input about Elon Musk\n",
    "text = \"\"\"\n",
    "Elon Reeve Musk (born June 28, 1971) is a businessman and investor known for his key roles in space\n",
    "company SpaceX and automotive company Tesla, Inc. Other involvements include ownership of X Corp.?,\n",
    "formerly Twitter, and his role in the founding of The Boring Company, xAI, Neuralink and OpenAI.\n",
    "He is one of the wealthiest people in the world; as of July 2024, Forbes estimates his net worth to be\n",
    "US$221 billion.Musk was born in Pretoria to Maye and engineer Errol Musk, and briefly attended\n",
    "the University of Pretoria before immigrating to Canada at age 18, acquiring citizenship through\n",
    "his Canadian-born mother. Two years later, he matriculated at Queen's University at Kingston in Canada.\n",
    "Musk later transferred to the University of Pennsylvania and received bachelor's degrees in economics\n",
    "and physics. He moved to California in 1995 to attend Stanford University, but dropped out after\n",
    "two days and, with his brother Kimbal, co-founded online city guide software company Zip2.\n",
    "\"\"\"\n",
    "\n",
    "\n",
    "# Wrap the raw text inside a LangChain Document object\n",
    "documents = [Document(page_content=text)]\n",
    "documents"
   ]
  },
  {
   "cell_type": "code",
   "execution_count": 2,
   "id": "87f5af26",
   "metadata": {},
   "outputs": [
    {
     "data": {
      "text/plain": [
       "[GraphDocument(nodes=[Node(id='Elon Reeve Musk', type='Person', properties={}), Node(id='Spacex', type='Company', properties={}), Node(id='Tesla, Inc.', type='Company', properties={}), Node(id='X Corp.', type='Company', properties={}), Node(id='The Boring Company', type='Company', properties={}), Node(id='Xai', type='Company', properties={}), Node(id='Neuralink', type='Company', properties={}), Node(id='Openai', type='Company', properties={}), Node(id='Maye', type='Person', properties={}), Node(id='Errol Musk', type='Person', properties={}), Node(id='University Of Pretoria', type='University', properties={}), Node(id='Canada', type='Country', properties={}), Node(id=\"Queen'S University\", type='University', properties={}), Node(id='University Of Pennsylvania', type='University', properties={}), Node(id='Stanford University', type='University', properties={}), Node(id='Kimbal Musk', type='Person', properties={}), Node(id='Zip2', type='Company', properties={})], relationships=[Relationship(source=Node(id='Elon Reeve Musk', type='Person', properties={}), target=Node(id='Spacex', type='Company', properties={}), type='FOUNDER', properties={}), Relationship(source=Node(id='Elon Reeve Musk', type='Person', properties={}), target=Node(id='Tesla, Inc.', type='Company', properties={}), type='FOUNDER', properties={}), Relationship(source=Node(id='Elon Reeve Musk', type='Person', properties={}), target=Node(id='X Corp.', type='Company', properties={}), type='OWNER', properties={}), Relationship(source=Node(id='Elon Reeve Musk', type='Person', properties={}), target=Node(id='The Boring Company', type='Company', properties={}), type='FOUNDER', properties={}), Relationship(source=Node(id='Elon Reeve Musk', type='Person', properties={}), target=Node(id='Xai', type='Company', properties={}), type='FOUNDER', properties={}), Relationship(source=Node(id='Elon Reeve Musk', type='Person', properties={}), target=Node(id='Neuralink', type='Company', properties={}), type='FOUNDER', properties={}), Relationship(source=Node(id='Elon Reeve Musk', type='Person', properties={}), target=Node(id='Openai', type='Company', properties={}), type='FOUNDER', properties={}), Relationship(source=Node(id='Elon Reeve Musk', type='Person', properties={}), target=Node(id='Maye', type='Person', properties={}), type='CHILD', properties={}), Relationship(source=Node(id='Elon Reeve Musk', type='Person', properties={}), target=Node(id='Errol Musk', type='Person', properties={}), type='CHILD', properties={}), Relationship(source=Node(id='Elon Reeve Musk', type='Person', properties={}), target=Node(id='University Of Pretoria', type='University', properties={}), type='ATTENDED', properties={}), Relationship(source=Node(id='Elon Reeve Musk', type='Person', properties={}), target=Node(id='Canada', type='Country', properties={}), type='IMMIGRATED', properties={}), Relationship(source=Node(id='Elon Reeve Musk', type='Person', properties={}), target=Node(id=\"Queen'S University\", type='University', properties={}), type='ATTENDED', properties={}), Relationship(source=Node(id='Elon Reeve Musk', type='Person', properties={}), target=Node(id='University Of Pennsylvania', type='University', properties={}), type='ATTENDED', properties={}), Relationship(source=Node(id='Elon Reeve Musk', type='Person', properties={}), target=Node(id='Stanford University', type='University', properties={}), type='ATTENDED', properties={}), Relationship(source=Node(id='Elon Reeve Musk', type='Person', properties={}), target=Node(id='Kimbal Musk', type='Person', properties={}), type='BROTHER', properties={}), Relationship(source=Node(id='Elon Reeve Musk', type='Person', properties={}), target=Node(id='Zip2', type='Company', properties={}), type='CO-FOUNDER', properties={})], source=Document(metadata={}, page_content=\"\\nElon Reeve Musk (born June 28, 1971) is a businessman and investor known for his key roles in space\\ncompany SpaceX and automotive company Tesla, Inc. Other involvements include ownership of X Corp.?,\\nformerly Twitter, and his role in the founding of The Boring Company, xAI, Neuralink and OpenAI.\\nHe is one of the wealthiest people in the world; as of July 2024, Forbes estimates his net worth to be\\nUS$221 billion.Musk was born in Pretoria to Maye and engineer Errol Musk, and briefly attended\\nthe University of Pretoria before immigrating to Canada at age 18, acquiring citizenship through\\nhis Canadian-born mother. Two years later, he matriculated at Queen's University at Kingston in Canada.\\nMusk later transferred to the University of Pennsylvania and received bachelor's degrees in economics\\nand physics. He moved to California in 1995 to attend Stanford University, but dropped out after\\ntwo days and, with his brother Kimbal, co-founded online city guide software company Zip2.\\n\"))]"
      ]
     },
     "execution_count": 2,
     "metadata": {},
     "output_type": "execute_result"
    }
   ],
   "source": [
    "# ============================ #\n",
    "#     GRAPH TRANSFORMATION     #\n",
    "# ============================ #\n",
    "\n",
    "# Create a transformer to extract graph structure (nodes + relationships) using the LLM\n",
    "llm_transformer = LLMGraphTransformer(llm=llm)\n",
    "\n",
    "# Convert documents into graph data (nodes and relationships)\n",
    "graph_documents = llm_transformer.convert_to_graph_documents(documents)\n",
    "\n",
    "graph_documents"
   ]
  },
  {
   "cell_type": "code",
   "execution_count": null,
   "id": "676a71fe",
   "metadata": {},
   "outputs": [
    {
     "data": {
      "text/plain": [
       "[Node(id='Elon Reeve Musk', type='Person', properties={}),\n",
       " Node(id='Spacex', type='Company', properties={}),\n",
       " Node(id='Tesla, Inc.', type='Company', properties={}),\n",
       " Node(id='X Corp.', type='Company', properties={}),\n",
       " Node(id='The Boring Company', type='Company', properties={}),\n",
       " Node(id='Xai', type='Company', properties={}),\n",
       " Node(id='Neuralink', type='Company', properties={}),\n",
       " Node(id='Openai', type='Company', properties={}),\n",
       " Node(id='Maye', type='Person', properties={}),\n",
       " Node(id='Errol Musk', type='Person', properties={}),\n",
       " Node(id='University Of Pretoria', type='University', properties={}),\n",
       " Node(id='Canada', type='Country', properties={}),\n",
       " Node(id=\"Queen'S University\", type='University', properties={}),\n",
       " Node(id='University Of Pennsylvania', type='University', properties={}),\n",
       " Node(id='Stanford University', type='University', properties={}),\n",
       " Node(id='Kimbal Musk', type='Person', properties={}),\n",
       " Node(id='Zip2', type='Company', properties={})]"
      ]
     },
     "execution_count": 3,
     "metadata": {},
     "output_type": "execute_result"
    }
   ],
   "source": [
    "#  ============================ #\n",
    "#         DEBUG OUTPUT         #\n",
    "# ============================ #\n",
    "\n",
    "# View extracted graph structure\n",
    "graph_documents[0].nodes           # List of nodes (entities)"
   ]
  },
  {
   "cell_type": "code",
   "execution_count": 4,
   "id": "7d2a0a56",
   "metadata": {},
   "outputs": [
    {
     "data": {
      "text/plain": [
       "[Relationship(source=Node(id='Elon Reeve Musk', type='Person', properties={}), target=Node(id='Spacex', type='Company', properties={}), type='FOUNDER', properties={}),\n",
       " Relationship(source=Node(id='Elon Reeve Musk', type='Person', properties={}), target=Node(id='Tesla, Inc.', type='Company', properties={}), type='FOUNDER', properties={}),\n",
       " Relationship(source=Node(id='Elon Reeve Musk', type='Person', properties={}), target=Node(id='X Corp.', type='Company', properties={}), type='OWNER', properties={}),\n",
       " Relationship(source=Node(id='Elon Reeve Musk', type='Person', properties={}), target=Node(id='The Boring Company', type='Company', properties={}), type='FOUNDER', properties={}),\n",
       " Relationship(source=Node(id='Elon Reeve Musk', type='Person', properties={}), target=Node(id='Xai', type='Company', properties={}), type='FOUNDER', properties={}),\n",
       " Relationship(source=Node(id='Elon Reeve Musk', type='Person', properties={}), target=Node(id='Neuralink', type='Company', properties={}), type='FOUNDER', properties={}),\n",
       " Relationship(source=Node(id='Elon Reeve Musk', type='Person', properties={}), target=Node(id='Openai', type='Company', properties={}), type='FOUNDER', properties={}),\n",
       " Relationship(source=Node(id='Elon Reeve Musk', type='Person', properties={}), target=Node(id='Maye', type='Person', properties={}), type='CHILD', properties={}),\n",
       " Relationship(source=Node(id='Elon Reeve Musk', type='Person', properties={}), target=Node(id='Errol Musk', type='Person', properties={}), type='CHILD', properties={}),\n",
       " Relationship(source=Node(id='Elon Reeve Musk', type='Person', properties={}), target=Node(id='University Of Pretoria', type='University', properties={}), type='ATTENDED', properties={}),\n",
       " Relationship(source=Node(id='Elon Reeve Musk', type='Person', properties={}), target=Node(id='Canada', type='Country', properties={}), type='IMMIGRATED', properties={}),\n",
       " Relationship(source=Node(id='Elon Reeve Musk', type='Person', properties={}), target=Node(id=\"Queen'S University\", type='University', properties={}), type='ATTENDED', properties={}),\n",
       " Relationship(source=Node(id='Elon Reeve Musk', type='Person', properties={}), target=Node(id='University Of Pennsylvania', type='University', properties={}), type='ATTENDED', properties={}),\n",
       " Relationship(source=Node(id='Elon Reeve Musk', type='Person', properties={}), target=Node(id='Stanford University', type='University', properties={}), type='ATTENDED', properties={}),\n",
       " Relationship(source=Node(id='Elon Reeve Musk', type='Person', properties={}), target=Node(id='Kimbal Musk', type='Person', properties={}), type='BROTHER', properties={}),\n",
       " Relationship(source=Node(id='Elon Reeve Musk', type='Person', properties={}), target=Node(id='Zip2', type='Company', properties={}), type='CO-FOUNDER', properties={})]"
      ]
     },
     "execution_count": 4,
     "metadata": {},
     "output_type": "execute_result"
    }
   ],
   "source": [
    "graph_documents[0].relationships   # List of relationships (edges) between entities"
   ]
  },
  {
   "cell_type": "markdown",
   "id": "bfa02661",
   "metadata": {},
   "source": [
    "```js\n",
    "movie_query=\"\"\"\n",
    "\n",
    "LOAD CSV WITH HEADERS FROM\n",
    "'https://raw.githubusercontent.com/tomasonjo/blog-datasets/main/movies/movies_small.csv' AS row\n",
    "\n",
    "/*\n",
    "Load CSV data from a remote URL.\n",
    "The CSV file contains headers, and each row corresponds to a movie with its metadata.\n",
    "*/\n",
    "\n",
    "// Create (or match if it already exists) a Movie node with a unique movieId\n",
    "MERGE (m:Movie {id: row.movieId})\n",
    "\n",
    "// Set properties on the Movie node: release date, title, and IMDb rating\n",
    "SET m.released = date(row.released),\n",
    "    m.title = row.title,\n",
    "    m.imdbRating = toFloat(row.imdbRating)\n",
    "\n",
    "/*\n",
    "Handle directors:\n",
    "- Split the director string by '|', in case there are multiple directors.\n",
    "- For each director:\n",
    "    - MERGE a Person node with the director's name (trimming whitespace).\n",
    "    - Create a DIRECTED relationship from the person to the movie.\n",
    "*/\n",
    "FOREACH (director IN split(row.director, '|') |\n",
    "    MERGE (p:Person {name: trim(director)})\n",
    "    MERGE (p)-[:DIRECTED]->(m)\n",
    ")\n",
    "\n",
    "/*\n",
    "Handle actors:\n",
    "- Similar to directors, split by '|'.\n",
    "- For each actor:\n",
    "    - MERGE a Person node with the actor's name.\n",
    "    - Create an ACTED_IN relationship from the person to the movie.\n",
    "*/\n",
    "FOREACH (actor IN split(row.actors, '|') |\n",
    "    MERGE (p:Person {name: trim(actor)})\n",
    "    MERGE (p)-[:ACTED_IN]->(m)\n",
    ")\n",
    "\n",
    "/*\n",
    "Handle genres:\n",
    "- Split the genres string by '|'.\n",
    "- For each genre:\n",
    "    - MERGE a Genre node with the genre name.\n",
    "    - Create an IN_GENRE relationship from the movie to the genre.\n",
    "*/\n",
    "FOREACH (genre IN split(row.genres, '|') |\n",
    "    MERGE (g:Genre {name: trim(genre)})\n",
    "    MERGE (m)-[:IN_GENRE]->(g)\n",
    ")\n",
    "\"\"\"\n",
    "\n",
    "```"
   ]
  },
  {
   "cell_type": "code",
   "execution_count": null,
   "id": "e23644ca",
   "metadata": {},
   "outputs": [],
   "source": [
    "### Load the dataset of movie\n",
    "\n",
    "movie_query=\"\"\"\n",
    "LOAD CSV WITH HEADERS FROM\n",
    "'https://raw.githubusercontent.com/tomasonjo/blog-datasets/main/movies/movies_small.csv' as row\n",
    "\n",
    "MERGE(m:Movie{id:row.movieId})\n",
    "SET m.released = date(row.released),\n",
    "    m.title = row.title,\n",
    "    m.imdbRating = toFloat(row.imdbRating)\n",
    "FOREACH (director in split(row.director, '|') |\n",
    "    MERGE (p:Person {name:trim(director)})\n",
    "    MERGE (p)-[:DIRECTED]->(m))\n",
    "FOREACH (actor in split(row.actors, '|') |\n",
    "    MERGE (p:Person {name:trim(actor)})\n",
    "    MERGE (p)-[:ACTED_IN]->(m))\n",
    "FOREACH (genre in split(row.genres, '|') |\n",
    "    MERGE (g:Genre {name:trim(genre)})\n",
    "    MERGE (m)-[:IN_GENRE]->(g))\n",
    "\"\"\""
   ]
  },
  {
   "cell_type": "code",
   "execution_count": 6,
   "id": "8e3ff279",
   "metadata": {},
   "outputs": [
    {
     "data": {
      "text/plain": [
       "<langchain_neo4j.graphs.neo4j_graph.Neo4jGraph at 0x2710d64d940>"
      ]
     },
     "execution_count": 6,
     "metadata": {},
     "output_type": "execute_result"
    }
   ],
   "source": [
    "graph"
   ]
  },
  {
   "cell_type": "code",
   "execution_count": 7,
   "id": "36f2d9f0",
   "metadata": {},
   "outputs": [
    {
     "data": {
      "text/plain": [
       "[]"
      ]
     },
     "execution_count": 7,
     "metadata": {},
     "output_type": "execute_result"
    }
   ],
   "source": [
    "graph.query(movie_query)"
   ]
  },
  {
   "cell_type": "code",
   "execution_count": 8,
   "id": "190d7d54",
   "metadata": {},
   "outputs": [
    {
     "name": "stdout",
     "output_type": "stream",
     "text": [
      "Node properties:\n",
      "Movie {id: STRING, released: DATE, title: STRING, imdbRating: FLOAT}\n",
      "Person {name: STRING}\n",
      "Genre {name: STRING}\n",
      "Relationship properties:\n",
      "\n",
      "The relationships:\n",
      "(:Movie)-[:IN_GENRE]->(:Genre)\n",
      "(:Person)-[:DIRECTED]->(:Movie)\n",
      "(:Person)-[:ACTED_IN]->(:Movie)\n"
     ]
    }
   ],
   "source": [
    "graph.refresh_schema()\n",
    "print(graph.schema)"
   ]
  },
  {
   "cell_type": "code",
   "execution_count": null,
   "id": "1c7ec5d1",
   "metadata": {},
   "outputs": [
    {
     "data": {
      "text/plain": [
       "GraphCypherQAChain(verbose=True, graph=<langchain_neo4j.graphs.neo4j_graph.Neo4jGraph object at 0x000002710D64D940>, cypher_generation_chain=PromptTemplate(input_variables=['question', 'schema'], input_types={}, partial_variables={}, template='Task:Generate Cypher statement to query a graph database.\\nInstructions:\\nUse only the provided relationship types and properties in the schema.\\nDo not use any other relationship types or properties that are not provided.\\nSchema:\\n{schema}\\nNote: Do not include any explanations or apologies in your responses.\\nDo not respond to any questions that might ask anything else than for you to construct a Cypher statement.\\nDo not include any text except the generated Cypher statement.\\n\\nThe question is:\\n{question}')\n",
       "| RunnableBinding(bound=ChatGroq(client=<groq.resources.chat.completions.Completions object at 0x000002710D64CC20>, async_client=<groq.resources.chat.completions.AsyncCompletions object at 0x000002710D64D7F0>, model_name='llama-3.3-70b-versatile', model_kwargs={}, groq_api_key=SecretStr('**********')), kwargs={}, config={}, config_factories=[])\n",
       "| StrOutputParser(), qa_chain=PromptTemplate(input_variables=['context', 'question'], input_types={}, partial_variables={}, template=\"You are an assistant that helps to form nice and human understandable answers.\\nThe information part contains the provided information that you must use to construct an answer.\\nThe provided information is authoritative, you must never doubt it or try to use your internal knowledge to correct it.\\nMake the answer sound as a response to the question. Do not mention that you based the result on the given information.\\nHere is an example:\\n\\nQuestion: Which managers own Neo4j stocks?\\nContext:[manager:CTL LLC, manager:JANE STREET GROUP LLC]\\nHelpful Answer: CTL LLC, JANE STREET GROUP LLC owns Neo4j stocks.\\n\\nFollow this example when generating answers.\\nIf the provided information is empty, say that you don't know the answer.\\nInformation:\\n{context}\\n\\nQuestion: {question}\\nHelpful Answer:\")\n",
       "| RunnableBinding(bound=ChatGroq(client=<groq.resources.chat.completions.Completions object at 0x000002710D64CC20>, async_client=<groq.resources.chat.completions.AsyncCompletions object at 0x000002710D64D7F0>, model_name='llama-3.3-70b-versatile', model_kwargs={}, groq_api_key=SecretStr('**********')), kwargs={}, config={}, config_factories=[])\n",
       "| StrOutputParser(), graph_schema='Node properties:\\nMovie {id: STRING, released: DATE, title: STRING, imdbRating: FLOAT}\\nPerson {name: STRING}\\nGenre {name: STRING}\\nRelationship properties:\\n\\nThe relationships:\\n(:Movie)-[:IN_GENRE]->(:Genre)\\n(:Person)-[:DIRECTED]->(:Movie)\\n(:Person)-[:ACTED_IN]->(:Movie)', allow_dangerous_requests=True)"
      ]
     },
     "execution_count": 9,
     "metadata": {},
     "output_type": "execute_result"
    }
   ],
   "source": [
    "chain = GraphCypherQAChain.from_llm(\n",
    "    llm=llm,\n",
    "    graph=graph,\n",
    "    verbose=True,\n",
    "    allow_dangerous_requests=True\n",
    ")\n",
    "\n",
    "chain"
   ]
  },
  {
   "cell_type": "code",
   "execution_count": 10,
   "id": "bc170be9",
   "metadata": {},
   "outputs": [
    {
     "name": "stdout",
     "output_type": "stream",
     "text": [
      "\n",
      "\n",
      "\u001b[1m> Entering new GraphCypherQAChain chain...\u001b[0m\n",
      "Generated Cypher:\n",
      "\u001b[32;1m\u001b[1;3mcypher\n",
      "MATCH (p:Person)-[:DIRECTED]->(m:Movie {title: 'GoldenEye'}) \n",
      "RETURN p.name\n",
      "\u001b[0m\n",
      "Full Context:\n",
      "\u001b[32;1m\u001b[1;3m[{'p.name': 'Martin Campbell'}]\u001b[0m\n",
      "\n",
      "\u001b[1m> Finished chain.\u001b[0m\n"
     ]
    },
    {
     "data": {
      "text/plain": [
       "{'query': 'Who was the director of the moview GoldenEye',\n",
       " 'result': 'Martin Campbell was the director of the movie GoldenEye.'}"
      ]
     },
     "execution_count": 10,
     "metadata": {},
     "output_type": "execute_result"
    }
   ],
   "source": [
    "response=chain.invoke({\"query\":\"Who was the director of the moview GoldenEye\"})\n",
    "\n",
    "response"
   ]
  },
  {
   "cell_type": "code",
   "execution_count": 11,
   "id": "998d7ed5",
   "metadata": {},
   "outputs": [
    {
     "name": "stdout",
     "output_type": "stream",
     "text": [
      "\n",
      "\n",
      "\u001b[1m> Entering new GraphCypherQAChain chain...\u001b[0m\n",
      "Generated Cypher:\n",
      "\u001b[32;1m\u001b[1;3mMATCH (m:Movie {title: 'GoldenEye'})-[:IN_GENRE]->(g:Genre) RETURN g.name\u001b[0m\n",
      "Full Context:\n",
      "\u001b[32;1m\u001b[1;3m[{'g.name': 'Adventure'}, {'g.name': 'Action'}, {'g.name': 'Thriller'}]\u001b[0m\n",
      "\n",
      "\u001b[1m> Finished chain.\u001b[0m\n"
     ]
    },
    {
     "data": {
      "text/plain": [
       "{'query': 'tell me the genre of th movie GoldenEye',\n",
       " 'result': 'The genres of the movie GoldenEye are Adventure, Action, and Thriller.'}"
      ]
     },
     "execution_count": 11,
     "metadata": {},
     "output_type": "execute_result"
    }
   ],
   "source": [
    "response=chain.invoke({\"query\":\"tell me the genre of th movie GoldenEye\"})\n",
    "\n",
    "response"
   ]
  },
  {
   "cell_type": "code",
   "execution_count": 12,
   "id": "36e98259",
   "metadata": {},
   "outputs": [
    {
     "name": "stdout",
     "output_type": "stream",
     "text": [
      "\n",
      "\n",
      "\u001b[1m> Entering new GraphCypherQAChain chain...\u001b[0m\n",
      "Generated Cypher:\n",
      "\u001b[32;1m\u001b[1;3mMATCH (p:Person)-[:DIRECTED]->(m:Movie {title: 'Casino'}) RETURN p.name\u001b[0m\n",
      "Full Context:\n",
      "\u001b[32;1m\u001b[1;3m[{'p.name': 'Martin Scorsese'}]\u001b[0m\n",
      "\n",
      "\u001b[1m> Finished chain.\u001b[0m\n"
     ]
    },
    {
     "data": {
      "text/plain": [
       "{'query': 'Who was the director in movie Casino',\n",
       " 'result': 'Martin Scorsese was the director in the movie Casino.'}"
      ]
     },
     "execution_count": 12,
     "metadata": {},
     "output_type": "execute_result"
    }
   ],
   "source": [
    "response=chain.invoke({\"query\":\"Who was the director in movie Casino\"})\n",
    "\n",
    "response"
   ]
  },
  {
   "cell_type": "code",
   "execution_count": 14,
   "id": "ebc7361f",
   "metadata": {},
   "outputs": [
    {
     "name": "stdout",
     "output_type": "stream",
     "text": [
      "\n",
      "\n",
      "\u001b[1m> Entering new GraphCypherQAChain chain...\u001b[0m\n",
      "Generated Cypher:\n",
      "\u001b[32;1m\u001b[1;3mMATCH (m:Movie) WHERE m.released = \"2008\" RETURN m.title\u001b[0m\n",
      "Full Context:\n",
      "\u001b[32;1m\u001b[1;3m[]\u001b[0m\n",
      "\n",
      "\u001b[1m> Finished chain.\u001b[0m\n"
     ]
    },
    {
     "data": {
      "text/plain": [
       "{'query': 'Which movie were released in 2008',\n",
       " 'result': \"I don't know the answer.\"}"
      ]
     },
     "execution_count": 14,
     "metadata": {},
     "output_type": "execute_result"
    }
   ],
   "source": [
    "response=chain.invoke({\"query\":\"Which movie were released in 2008\"})\n",
    "\n",
    "response"
   ]
  },
  {
   "cell_type": "code",
   "execution_count": 15,
   "id": "76309ffd",
   "metadata": {},
   "outputs": [
    {
     "name": "stdout",
     "output_type": "stream",
     "text": [
      "\n",
      "\n",
      "\u001b[1m> Entering new GraphCypherQAChain chain...\u001b[0m\n",
      "Generated Cypher:\n",
      "\u001b[32;1m\u001b[1;3mMATCH (m:Movie) WHERE m.imdbRating > 8 RETURN m.title, m.imdbRating\u001b[0m\n",
      "Full Context:\n",
      "\u001b[32;1m\u001b[1;3m[{'m.title': 'Toy Story', 'm.imdbRating': 8.3}, {'m.title': 'Heat', 'm.imdbRating': 8.2}, {'m.title': 'Casino', 'm.imdbRating': 8.2}, {'m.title': 'Twelve Monkeys (a.k.a. 12 Monkeys)', 'm.imdbRating': 8.1}, {'m.title': 'Seven (a.k.a. Se7en)', 'm.imdbRating': 8.6}, {'m.title': 'Usual Suspects, The', 'm.imdbRating': 8.6}, {'m.title': 'Hate (Haine, La)', 'm.imdbRating': 8.1}, {'m.title': 'Braveheart', 'm.imdbRating': 8.4}, {'m.title': 'Taxi Driver', 'm.imdbRating': 8.3}, {'m.title': 'Anne Frank Remembered', 'm.imdbRating': 8.2}]\u001b[0m\n",
      "\n",
      "\u001b[1m> Finished chain.\u001b[0m\n"
     ]
    },
    {
     "data": {
      "text/plain": [
       "{'query': 'Give me the list of movie having imdb rating more than 8',\n",
       " 'result': 'The movies with an IMDB rating more than 8 are: Seven (a.k.a. Se7en) with a rating of 8.6, Usual Suspects, The with a rating of 8.6, Braveheart with a rating of 8.4, Toy Story with a rating of 8.3, and Taxi Driver with a rating of 8.3.'}"
      ]
     },
     "execution_count": 15,
     "metadata": {},
     "output_type": "execute_result"
    }
   ],
   "source": [
    "response=chain.invoke({\"query\":\"Give me the list of movie having imdb rating more than 8\"})\n",
    "response"
   ]
  },
  {
   "cell_type": "code",
   "execution_count": 16,
   "id": "49b8cf3e",
   "metadata": {},
   "outputs": [],
   "source": [
    "examples = [\n",
    "    {\n",
    "        \"question\": \"How many artists are there?\",\n",
    "        \"query\": \"MATCH (a:Person)-[:ACTED_IN]->(:Movie) RETURN count(DISTINCT a)\",\n",
    "    },\n",
    "    {\n",
    "        \"question\": \"Which actors played in the movie Casino?\",\n",
    "        \"query\": \"MATCH (m:Movie {{title: 'Casino'}})<-[:ACTED_IN]-(a) RETURN a.name\",\n",
    "    },\n",
    "    {\n",
    "        \"question\": \"How many movies has Tom Hanks acted in?\",\n",
    "        \"query\": \"MATCH (a:Person {name: 'Tom Hanks'})-[:ACTED_IN]->(m:Movie) RETURN count(m)\",\n",
    "    },\n",
    "    {\n",
    "        \"question\": \"List all the genres of the movie Schindler's List\",\n",
    "        \"query\": \"MATCH (m:Movie {{title: 'Schindler\\\\'s List'}})-[:IN_GENRE]->(g:Genre) RETURN g.name\",\n",
    "    },\n",
    "    {\n",
    "        \"question\": \"Which actors have worked in movies from both the comedy and action genres?\",\n",
    "        \"query\": \"MATCH (a:Person)-[:ACTED_IN]->(:Movie)-[:IN_GENRE]->(g1:Genre), (a)-[:ACTED_IN]->(:Movie)-[:IN_GENRE]->(g2:Genre) WHERE g1.name = 'Comedy' AND g2.name = 'Action' RETURN DISTINCT a.name\",\n",
    "    },\n",
    "    {\n",
    "        \"question\": \"Which directors have made movies with at least three different actors named 'John'?\",\n",
    "        \"query\": \"MATCH (d:Person)-[:DIRECTED]->(m:Movie)<-[:ACTED_IN]-(a:Person) WHERE a.name STARTS WITH 'John' WITH d, COUNT(DISTINCT a) AS JohnsCount WHERE JohnsCount >= 3 RETURN d.name\",\n",
    "    },\n",
    "    {\n",
    "        \"question\": \"Identify movies where directors also played a role in the film.\",\n",
    "        \"query\": \"MATCH (p:Person)-[:DIRECTED]->(m:Movie), (p)-[:ACTED_IN]->(m) RETURN m.title, p.name\",\n",
    "    },\n",
    "    {\n",
    "        \"question\": \"Find the actor with the highest number of movies in the database.\",\n",
    "        \"query\": \"MATCH (a:Actor)-[:ACTED_IN]->(m:Movie) RETURN a.name, COUNT(m) AS movieCount ORDER BY movieCount DESC LIMIT 1\",\n",
    "    },\n",
    "]"
   ]
  },
  {
   "cell_type": "markdown",
   "id": "0056f72a",
   "metadata": {},
   "source": [
    "# ⁉️**Quiz**"
   ]
  },
  {
   "cell_type": "markdown",
   "id": "8053cbdf",
   "metadata": {},
   "source": [
    "## 🧠 I. Short Answer Quiz\n",
    "\n",
    "**1. What is a Knowledge Graph, and what three main components does it use to represent information?**\n",
    "A Knowledge Graph is a semantic network representing relationships among real-world entities. Its three key components are:\n",
    "\n",
    "* **Nodes** (entities)\n",
    "* **Edges** (relationships)\n",
    "* **Labels** (categories for nodes)\n",
    "\n",
    "**2. Explain the purpose of \"nodes\" and \"edges\" within a Knowledge Graph.**\n",
    "Nodes represent distinct entities such as people, places, or concepts. Edges connect these nodes and define how the entities are related to one another.\n",
    "\n",
    "**3. How does Named Entity Recognition (NER) relate to the creation of Knowledge Graphs?**\n",
    "NER identifies specific entities (like names, places, and organizations) from unstructured text. These entities become nodes, and their detected connections form the edges in a Knowledge Graph.\n",
    "\n",
    "**4. Describe the primary difference between keyword search and semantic search in the context of retrieval.**\n",
    "Keyword search looks for exact matches of words, often missing context. Semantic search interprets the meaning of words to find conceptually related information, even if exact terms differ.\n",
    "\n",
    "**5. What is \"hybrid search\" and why is it considered more effective than keyword or semantic search alone?**\n",
    "Hybrid search combines keyword and semantic search. It improves accuracy by using precise term matching and contextual understanding together for better information retrieval.\n",
    "\n",
    "**6. List three key differences between a Relational Database Management System (RDBMS) and a Graph Database.**\n",
    "\n",
    "* **Data Structure**: RDBMS uses tables; GraphDB uses nodes and edges.\n",
    "* **Query Language**: RDBMS uses SQL; GraphDB uses Cypher.\n",
    "* **Relationship Handling**: RDBMS uses joins; GraphDB natively models relationships.\n",
    "\n",
    "**7. What is the main advantage of using Cipher Query Language in Neo4j compared to SQL in RDBMS for complex queries?**\n",
    "Cypher allows intuitive and visual querying of data relationships, eliminating complex joins and nested queries typically required in SQL.\n",
    "\n",
    "**8. Explain what \"properties\" and \"labels\" signify when defining elements within a Neo4j Property Graph Data Model.**\n",
    "\n",
    "* **Properties**: Key-value pairs storing metadata about nodes or relationships (e.g., name, year).\n",
    "* **Labels**: Tags that categorize nodes into types like \"Movie\" or \"Person.\"\n",
    "\n",
    "**9. How does LangChain's LLMGraphTransformer facilitate the creation of a graph document from raw text?**\n",
    "It uses an LLM to process raw text, extract entities and relationships, and convert them into structured graph elements automatically.\n",
    "\n",
    "**10. Describe the function of the GraphCypherQAChain in LangChain for querying a graph database.**\n",
    "It converts natural language questions into Cypher queries, runs them on a graph database, and returns the result as a human-readable answer.\n",
    "\n",
    "---\n",
    "\n",
    "## ✍️ II. Quiz Answer Key\n",
    "\n",
    "*(Provided in your original message – formatted for instructor/self-review use.)*\n",
    "\n",
    "---\n",
    "\n",
    "## 📝 III. Essay Format Questions\n",
    "\n",
    "1. **Information Retrieval Evolution**\n",
    "   Discuss how search evolved from basic keyword methods to hybrid search powered by semantic understanding and Knowledge Graphs. Highlight LLMs’ role in enabling deep context awareness and enhancing response quality.\n",
    "\n",
    "2. **RDBMS vs. GraphDB Models**\n",
    "   Compare data structure (tables vs. nodes), relationship modeling, and query languages (SQL vs. Cypher). Provide examples like social networks or movie recommendation systems where GraphDB excels.\n",
    "\n",
    "3. **Unstructured to Graph Pipeline**\n",
    "   Explain steps: document chunking → embedding/vectorization → entity extraction (NER) → relationship detection → graph creation (e.g., with Neo4j). Address challenges like ambiguity and benefit of structured insights.\n",
    "\n",
    "4. **LangChain’s Role in RAG Apps**\n",
    "   Break down how LangChain components like `LLMGraphTransformer` and `GraphCypherQAChain` enable intelligent data interaction. Discuss how this enhances the performance and usability of RAG systems.\n",
    "\n",
    "5. **Designing a Movie Recommendation System Using Knowledge Graphs**\n",
    "   Define graph structure: nodes = movies, directors, actors; relationships = ACTED\\_IN, DIRECTED. Use Cypher to find \"similar movies\" based on shared genre, cast, director, or user preferences.\n",
    "\n",
    "---\n",
    "\n",
    "## 📚 IV. Glossary of Key Terms\n",
    "\n",
    "| Term                                     | Definition                                                              |\n",
    "| ---------------------------------------- | ----------------------------------------------------------------------- |\n",
    "| **Knowledge Graph**                      | Semantic structure representing entities and relationships.             |\n",
    "| **Graph Database**                       | A NoSQL DB using nodes, edges, and properties to store relationships.   |\n",
    "| **Neo4j**                                | A popular open-source GraphDB implementing the property graph model.    |\n",
    "| **LangChain**                            | A framework for chaining together components to build LLM-powered apps. |\n",
    "| **Nodes**                                | Entities in a graph like people, items, or locations.                   |\n",
    "| **Edges (Relationships)**                | Connections between nodes (e.g., WORKS\\_FOR, DIRECTED).                 |\n",
    "| **Labels**                               | Types or categories of nodes (e.g., \"Person\", \"Movie\").                 |\n",
    "| **Properties**                           | Attributes of nodes/relationships as key-value pairs.                   |\n",
    "| **Cypher Query Language**                | Graph-specific query language used in Neo4j.                            |\n",
    "| **RDBMS**                                | Relational DB that uses tables and SQL (e.g., MySQL, PostgreSQL).       |\n",
    "| **Keyword Search**                       | Search technique matching exact words in documents.                     |\n",
    "| **Semantic Search**                      | Finds content based on meaning/context using embeddings.                |\n",
    "| **Hybrid Search**                        | Combines keyword and semantic search for accuracy.                      |\n",
    "| **Retrieval Augmented Generation (RAG)** | Combines retrieval with generation by an LLM.                           |\n",
    "| **Embedding Vectors**                    | Numeric representations of text for similarity comparison.              |\n",
    "| **Vector Database**                      | Optimized DB for storing and searching embedding vectors.               |\n",
    "| **LLMGraphTransformer**                  | LangChain tool that converts text into graph data using LLMs.           |\n",
    "| **GraphCypherQAChain**                   | LangChain module that converts natural questions into Cypher queries.   |\n",
    "| **Grock**                                | Platform providing API access to open-source LLMs for fast querying.    |\n",
    "| **Named Entity Recognition (NER)**       | NLP method for identifying entities like people, places, or companies.  |\n",
    "\n",
    "\n"
   ]
  }
 ],
 "metadata": {
  "kernelspec": {
   "display_name": "Developing_LLMs_Applications_with_LangChain",
   "language": "python",
   "name": "python3"
  },
  "language_info": {
   "codemirror_mode": {
    "name": "ipython",
    "version": 3
   },
   "file_extension": ".py",
   "mimetype": "text/x-python",
   "name": "python",
   "nbconvert_exporter": "python",
   "pygments_lexer": "ipython3",
   "version": "3.13.5"
  }
 },
 "nbformat": 4,
 "nbformat_minor": 5
}
